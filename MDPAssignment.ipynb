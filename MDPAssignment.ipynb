{
  "nbformat": 4,
  "nbformat_minor": 0,
  "metadata": {
    "colab": {
      "provenance": []
    },
    "kernelspec": {
      "name": "python3",
      "display_name": "Python 3"
    },
    "language_info": {
      "name": "python"
    }
  },
  "cells": [
    {
      "cell_type": "code",
      "execution_count": null,
      "metadata": {
        "colab": {
          "base_uri": "https://localhost:8080/"
        },
        "id": "C135g8kCwDXB",
        "outputId": "a50f1be1-76c8-4200-f934-bc70f13ee71b"
      },
      "outputs": [
        {
          "output_type": "stream",
          "name": "stdout",
          "text": [
            "Collecting bettermdptools\n",
            "  Downloading bettermdptools-0.4.0.tar.gz (7.6 kB)\n",
            "  Preparing metadata (setup.py) ... \u001b[?25l\u001b[?25hdone\n",
            "Collecting gym<=0.26.2,>=0.26 (from bettermdptools)\n",
            "  Downloading gym-0.26.2.tar.gz (721 kB)\n",
            "\u001b[2K     \u001b[90m━━━━━━━━━━━━━━━━━━━━━━━━━━━━━━━━━━━━━━━━\u001b[0m \u001b[32m721.7/721.7 kB\u001b[0m \u001b[31m6.1 MB/s\u001b[0m eta \u001b[36m0:00:00\u001b[0m\n",
            "\u001b[?25h  Installing build dependencies ... \u001b[?25l\u001b[?25hdone\n",
            "  Getting requirements to build wheel ... \u001b[?25l\u001b[?25hdone\n",
            "  Preparing metadata (pyproject.toml) ... \u001b[?25l\u001b[?25hdone\n",
            "Requirement already satisfied: pygame in /usr/local/lib/python3.10/dist-packages (from bettermdptools) (2.5.2)\n",
            "Requirement already satisfied: numpy in /usr/local/lib/python3.10/dist-packages (from bettermdptools) (1.23.5)\n",
            "Requirement already satisfied: tqdm in /usr/local/lib/python3.10/dist-packages (from bettermdptools) (4.66.1)\n",
            "Requirement already satisfied: pandas in /usr/local/lib/python3.10/dist-packages (from bettermdptools) (1.5.3)\n",
            "Requirement already satisfied: seaborn in /usr/local/lib/python3.10/dist-packages (from bettermdptools) (0.12.2)\n",
            "Requirement already satisfied: matplotlib in /usr/local/lib/python3.10/dist-packages (from bettermdptools) (3.7.1)\n",
            "Requirement already satisfied: cloudpickle>=1.2.0 in /usr/local/lib/python3.10/dist-packages (from gym<=0.26.2,>=0.26->bettermdptools) (2.2.1)\n",
            "Requirement already satisfied: gym-notices>=0.0.4 in /usr/local/lib/python3.10/dist-packages (from gym<=0.26.2,>=0.26->bettermdptools) (0.0.8)\n",
            "Requirement already satisfied: contourpy>=1.0.1 in /usr/local/lib/python3.10/dist-packages (from matplotlib->bettermdptools) (1.2.0)\n",
            "Requirement already satisfied: cycler>=0.10 in /usr/local/lib/python3.10/dist-packages (from matplotlib->bettermdptools) (0.12.1)\n",
            "Requirement already satisfied: fonttools>=4.22.0 in /usr/local/lib/python3.10/dist-packages (from matplotlib->bettermdptools) (4.44.3)\n",
            "Requirement already satisfied: kiwisolver>=1.0.1 in /usr/local/lib/python3.10/dist-packages (from matplotlib->bettermdptools) (1.4.5)\n",
            "Requirement already satisfied: packaging>=20.0 in /usr/local/lib/python3.10/dist-packages (from matplotlib->bettermdptools) (23.2)\n",
            "Requirement already satisfied: pillow>=6.2.0 in /usr/local/lib/python3.10/dist-packages (from matplotlib->bettermdptools) (9.4.0)\n",
            "Requirement already satisfied: pyparsing>=2.3.1 in /usr/local/lib/python3.10/dist-packages (from matplotlib->bettermdptools) (3.1.1)\n",
            "Requirement already satisfied: python-dateutil>=2.7 in /usr/local/lib/python3.10/dist-packages (from matplotlib->bettermdptools) (2.8.2)\n",
            "Requirement already satisfied: pytz>=2020.1 in /usr/local/lib/python3.10/dist-packages (from pandas->bettermdptools) (2023.3.post1)\n",
            "Requirement already satisfied: six>=1.5 in /usr/local/lib/python3.10/dist-packages (from python-dateutil>=2.7->matplotlib->bettermdptools) (1.16.0)\n",
            "Building wheels for collected packages: bettermdptools, gym\n",
            "  Building wheel for bettermdptools (setup.py) ... \u001b[?25l\u001b[?25hdone\n",
            "  Created wheel for bettermdptools: filename=bettermdptools-0.4.0-py3-none-any.whl size=11856 sha256=461c74dbe213530b9696cd467a20dd2059650cb97ec0b68a15c07ad55644f93a\n",
            "  Stored in directory: /root/.cache/pip/wheels/b0/78/c1/a03ad20528780b5d6c33d3d8063f740b337388bf97b926f366\n",
            "  Building wheel for gym (pyproject.toml) ... \u001b[?25l\u001b[?25hdone\n",
            "  Created wheel for gym: filename=gym-0.26.2-py3-none-any.whl size=827619 sha256=6202bd95fd77150d8b214ee9213c3b767b9bf67b1135f9099f44014b54b457da\n",
            "  Stored in directory: /root/.cache/pip/wheels/b9/22/6d/3e7b32d98451b4cd9d12417052affbeeeea012955d437da1da\n",
            "Successfully built bettermdptools gym\n",
            "Installing collected packages: gym, bettermdptools\n",
            "  Attempting uninstall: gym\n",
            "    Found existing installation: gym 0.25.2\n",
            "    Uninstalling gym-0.25.2:\n",
            "      Successfully uninstalled gym-0.25.2\n",
            "\u001b[31mERROR: pip's dependency resolver does not currently take into account all the packages that are installed. This behaviour is the source of the following dependency conflicts.\n",
            "dopamine-rl 4.0.6 requires gym<=0.25.2, but you have gym 0.26.2 which is incompatible.\u001b[0m\u001b[31m\n",
            "\u001b[0mSuccessfully installed bettermdptools-0.4.0 gym-0.26.2\n"
          ]
        }
      ],
      "source": [
        "'''\n",
        "checklist:\n",
        "- look at how many iterations it takes to converge (along with wall-clock time) for both VI and PI\n",
        "- define convergence criteria explicitly\n",
        "- look at how the # of states affects convergence\n",
        "- compare Q-learning to VI and PI\n",
        "- look at different exploration strategies (? maybe they mean reward-shaping and such); talk about exploration-exploitation with visuals\n",
        "- topics to look at: convergence issues, differing optimal policies, sensitivity\n",
        "to tuning strategies\n",
        "\n",
        "convergence can include:\n",
        "  - mean V or max V against iteration\n",
        "  - reward against iteration\n",
        "  - delta convergence\n",
        "generate plots that look at state space size\n",
        "generates visualizations of policies\n",
        "\n",
        "#talk about how Q-learning wo shaping succeeds on taxi and fails on forest\n",
        "'''"
      ]
    },
    {
      "cell_type": "code",
      "source": [
        "!pip install bettermdptools"
      ],
      "metadata": {
        "colab": {
          "base_uri": "https://localhost:8080/"
        },
        "id": "Pw7gt56WwT-f",
        "outputId": "51f51316-4fd3-483a-f52e-b46a76a9d37a"
      },
      "execution_count": null,
      "outputs": [
        {
          "output_type": "stream",
          "name": "stdout",
          "text": [
            "Collecting bettermdptools\n",
            "  Downloading bettermdptools-0.4.0.tar.gz (7.6 kB)\n",
            "  Preparing metadata (setup.py) ... \u001b[?25l\u001b[?25hdone\n",
            "Collecting gym<=0.26.2,>=0.26 (from bettermdptools)\n",
            "  Downloading gym-0.26.2.tar.gz (721 kB)\n",
            "\u001b[2K     \u001b[90m━━━━━━━━━━━━━━━━━━━━━━━━━━━━━━━━━━━━━━━━\u001b[0m \u001b[32m721.7/721.7 kB\u001b[0m \u001b[31m7.1 MB/s\u001b[0m eta \u001b[36m0:00:00\u001b[0m\n",
            "\u001b[?25h  Installing build dependencies ... \u001b[?25l\u001b[?25hdone\n",
            "  Getting requirements to build wheel ... \u001b[?25l\u001b[?25hdone\n",
            "  Preparing metadata (pyproject.toml) ... \u001b[?25l\u001b[?25hdone\n",
            "Requirement already satisfied: pygame in /usr/local/lib/python3.10/dist-packages (from bettermdptools) (2.5.2)\n",
            "Requirement already satisfied: numpy in /usr/local/lib/python3.10/dist-packages (from bettermdptools) (1.23.5)\n",
            "Requirement already satisfied: tqdm in /usr/local/lib/python3.10/dist-packages (from bettermdptools) (4.66.1)\n",
            "Requirement already satisfied: pandas in /usr/local/lib/python3.10/dist-packages (from bettermdptools) (1.5.3)\n",
            "Requirement already satisfied: seaborn in /usr/local/lib/python3.10/dist-packages (from bettermdptools) (0.12.2)\n",
            "Requirement already satisfied: matplotlib in /usr/local/lib/python3.10/dist-packages (from bettermdptools) (3.7.1)\n",
            "Requirement already satisfied: cloudpickle>=1.2.0 in /usr/local/lib/python3.10/dist-packages (from gym<=0.26.2,>=0.26->bettermdptools) (2.2.1)\n",
            "Requirement already satisfied: gym-notices>=0.0.4 in /usr/local/lib/python3.10/dist-packages (from gym<=0.26.2,>=0.26->bettermdptools) (0.0.8)\n",
            "Requirement already satisfied: contourpy>=1.0.1 in /usr/local/lib/python3.10/dist-packages (from matplotlib->bettermdptools) (1.2.0)\n",
            "Requirement already satisfied: cycler>=0.10 in /usr/local/lib/python3.10/dist-packages (from matplotlib->bettermdptools) (0.12.1)\n",
            "Requirement already satisfied: fonttools>=4.22.0 in /usr/local/lib/python3.10/dist-packages (from matplotlib->bettermdptools) (4.44.3)\n",
            "Requirement already satisfied: kiwisolver>=1.0.1 in /usr/local/lib/python3.10/dist-packages (from matplotlib->bettermdptools) (1.4.5)\n",
            "Requirement already satisfied: packaging>=20.0 in /usr/local/lib/python3.10/dist-packages (from matplotlib->bettermdptools) (23.2)\n",
            "Requirement already satisfied: pillow>=6.2.0 in /usr/local/lib/python3.10/dist-packages (from matplotlib->bettermdptools) (9.4.0)\n",
            "Requirement already satisfied: pyparsing>=2.3.1 in /usr/local/lib/python3.10/dist-packages (from matplotlib->bettermdptools) (3.1.1)\n",
            "Requirement already satisfied: python-dateutil>=2.7 in /usr/local/lib/python3.10/dist-packages (from matplotlib->bettermdptools) (2.8.2)\n",
            "Requirement already satisfied: pytz>=2020.1 in /usr/local/lib/python3.10/dist-packages (from pandas->bettermdptools) (2023.3.post1)\n",
            "Requirement already satisfied: six>=1.5 in /usr/local/lib/python3.10/dist-packages (from python-dateutil>=2.7->matplotlib->bettermdptools) (1.16.0)\n",
            "Building wheels for collected packages: bettermdptools, gym\n",
            "  Building wheel for bettermdptools (setup.py) ... \u001b[?25l\u001b[?25hdone\n",
            "  Created wheel for bettermdptools: filename=bettermdptools-0.4.0-py3-none-any.whl size=11856 sha256=54a640522d43b4f607ff598f11786bb02440f9d517f71b9d37fe16c88764cdff\n",
            "  Stored in directory: /root/.cache/pip/wheels/b0/78/c1/a03ad20528780b5d6c33d3d8063f740b337388bf97b926f366\n",
            "  Building wheel for gym (pyproject.toml) ... \u001b[?25l\u001b[?25hdone\n",
            "  Created wheel for gym: filename=gym-0.26.2-py3-none-any.whl size=827617 sha256=ea382780bc98ef047564c4be5046257e808ab6fe2702c6f6c18a39b91e912d3a\n",
            "  Stored in directory: /root/.cache/pip/wheels/b9/22/6d/3e7b32d98451b4cd9d12417052affbeeeea012955d437da1da\n",
            "Successfully built bettermdptools gym\n",
            "Installing collected packages: gym, bettermdptools\n",
            "  Attempting uninstall: gym\n",
            "    Found existing installation: gym 0.25.2\n",
            "    Uninstalling gym-0.25.2:\n",
            "      Successfully uninstalled gym-0.25.2\n",
            "\u001b[31mERROR: pip's dependency resolver does not currently take into account all the packages that are installed. This behaviour is the source of the following dependency conflicts.\n",
            "dopamine-rl 4.0.6 requires gym<=0.25.2, but you have gym 0.26.2 which is incompatible.\u001b[0m\u001b[31m\n",
            "\u001b[0mSuccessfully installed bettermdptools-0.4.0 gym-0.26.2\n"
          ]
        }
      ]
    },
    {
      "cell_type": "code",
      "source": [
        "!pip install gymnasium"
      ],
      "metadata": {
        "id": "pg3RtgkvxZiS",
        "colab": {
          "base_uri": "https://localhost:8080/"
        },
        "outputId": "ab0cb981-c9c6-4c4c-c100-1128972b0821"
      },
      "execution_count": null,
      "outputs": [
        {
          "output_type": "stream",
          "name": "stdout",
          "text": [
            "Collecting gymnasium\n",
            "  Downloading gymnasium-0.29.1-py3-none-any.whl (953 kB)\n",
            "\u001b[?25l     \u001b[90m━━━━━━━━━━━━━━━━━━━━━━━━━━━━━━━━━━━━━━━━\u001b[0m \u001b[32m0.0/953.9 kB\u001b[0m \u001b[31m?\u001b[0m eta \u001b[36m-:--:--\u001b[0m\r\u001b[2K     \u001b[91m━━━━\u001b[0m\u001b[91m╸\u001b[0m\u001b[90m━━━━━━━━━━━━━━━━━━━━━━━━━━━━━━━━━━━\u001b[0m \u001b[32m112.6/953.9 kB\u001b[0m \u001b[31m3.5 MB/s\u001b[0m eta \u001b[36m0:00:01\u001b[0m\r\u001b[2K     \u001b[91m━━━━━━━━━━━━━━━━━\u001b[0m\u001b[90m╺\u001b[0m\u001b[90m━━━━━━━━━━━━━━━━━━━━━━\u001b[0m \u001b[32m409.6/953.9 kB\u001b[0m \u001b[31m6.1 MB/s\u001b[0m eta \u001b[36m0:00:01\u001b[0m\r\u001b[2K     \u001b[91m━━━━━━━━━━━━━━━━━━━━━━━━━━━━━━━━━\u001b[0m\u001b[90m╺\u001b[0m\u001b[90m━━━━━━\u001b[0m \u001b[32m788.5/953.9 kB\u001b[0m \u001b[31m7.7 MB/s\u001b[0m eta \u001b[36m0:00:01\u001b[0m\r\u001b[2K     \u001b[90m━━━━━━━━━━━━━━━━━━━━━━━━━━━━━━━━━━━━━━━━\u001b[0m \u001b[32m953.9/953.9 kB\u001b[0m \u001b[31m7.3 MB/s\u001b[0m eta \u001b[36m0:00:00\u001b[0m\n",
            "\u001b[?25hRequirement already satisfied: numpy>=1.21.0 in /usr/local/lib/python3.10/dist-packages (from gymnasium) (1.23.5)\n",
            "Requirement already satisfied: cloudpickle>=1.2.0 in /usr/local/lib/python3.10/dist-packages (from gymnasium) (2.2.1)\n",
            "Requirement already satisfied: typing-extensions>=4.3.0 in /usr/local/lib/python3.10/dist-packages (from gymnasium) (4.5.0)\n",
            "Collecting farama-notifications>=0.0.1 (from gymnasium)\n",
            "  Downloading Farama_Notifications-0.0.4-py3-none-any.whl (2.5 kB)\n",
            "Installing collected packages: farama-notifications, gymnasium\n",
            "Successfully installed farama-notifications-0.0.4 gymnasium-0.29.1\n"
          ]
        }
      ]
    },
    {
      "cell_type": "code",
      "source": [
        "import gym\n",
        "import pygame\n",
        "from algorithms.rl import RL\n",
        "from examples.test_env import TestEnv"
      ],
      "metadata": {
        "id": "32HV1wgRzjI7"
      },
      "execution_count": null,
      "outputs": []
    },
    {
      "cell_type": "code",
      "source": [
        "!pip install mdptoolbox-hiive"
      ],
      "metadata": {
        "colab": {
          "base_uri": "https://localhost:8080/"
        },
        "id": "4mAilEbqzqB-",
        "outputId": "0cbd8fc6-4ee4-4f1c-9e47-d43dddbbb84a"
      },
      "execution_count": null,
      "outputs": [
        {
          "output_type": "stream",
          "name": "stdout",
          "text": [
            "Collecting mdptoolbox-hiive\n",
            "  Downloading mdptoolbox-hiive-4.0.3.1.tar.gz (30 kB)\n",
            "  Preparing metadata (setup.py) ... \u001b[?25l\u001b[?25hdone\n",
            "Requirement already satisfied: numpy in /usr/local/lib/python3.10/dist-packages (from mdptoolbox-hiive) (1.23.5)\n",
            "Requirement already satisfied: scipy in /usr/local/lib/python3.10/dist-packages (from mdptoolbox-hiive) (1.11.3)\n",
            "Requirement already satisfied: gym in /usr/local/lib/python3.10/dist-packages (from mdptoolbox-hiive) (0.26.2)\n",
            "Requirement already satisfied: ipython in /usr/local/lib/python3.10/dist-packages (from mdptoolbox-hiive) (7.34.0)\n",
            "Requirement already satisfied: networkx in /usr/local/lib/python3.10/dist-packages (from mdptoolbox-hiive) (3.2.1)\n",
            "Requirement already satisfied: pydot in /usr/local/lib/python3.10/dist-packages (from mdptoolbox-hiive) (1.4.2)\n",
            "Requirement already satisfied: cloudpickle>=1.2.0 in /usr/local/lib/python3.10/dist-packages (from gym->mdptoolbox-hiive) (2.2.1)\n",
            "Requirement already satisfied: gym-notices>=0.0.4 in /usr/local/lib/python3.10/dist-packages (from gym->mdptoolbox-hiive) (0.0.8)\n",
            "Requirement already satisfied: setuptools>=18.5 in /usr/local/lib/python3.10/dist-packages (from ipython->mdptoolbox-hiive) (67.7.2)\n",
            "Collecting jedi>=0.16 (from ipython->mdptoolbox-hiive)\n",
            "  Downloading jedi-0.19.1-py2.py3-none-any.whl (1.6 MB)\n",
            "\u001b[2K     \u001b[90m━━━━━━━━━━━━━━━━━━━━━━━━━━━━━━━━━━━━━━━━\u001b[0m \u001b[32m1.6/1.6 MB\u001b[0m \u001b[31m9.2 MB/s\u001b[0m eta \u001b[36m0:00:00\u001b[0m\n",
            "\u001b[?25hRequirement already satisfied: decorator in /usr/local/lib/python3.10/dist-packages (from ipython->mdptoolbox-hiive) (4.4.2)\n",
            "Requirement already satisfied: pickleshare in /usr/local/lib/python3.10/dist-packages (from ipython->mdptoolbox-hiive) (0.7.5)\n",
            "Requirement already satisfied: traitlets>=4.2 in /usr/local/lib/python3.10/dist-packages (from ipython->mdptoolbox-hiive) (5.7.1)\n",
            "Requirement already satisfied: prompt-toolkit!=3.0.0,!=3.0.1,<3.1.0,>=2.0.0 in /usr/local/lib/python3.10/dist-packages (from ipython->mdptoolbox-hiive) (3.0.41)\n",
            "Requirement already satisfied: pygments in /usr/local/lib/python3.10/dist-packages (from ipython->mdptoolbox-hiive) (2.16.1)\n",
            "Requirement already satisfied: backcall in /usr/local/lib/python3.10/dist-packages (from ipython->mdptoolbox-hiive) (0.2.0)\n",
            "Requirement already satisfied: matplotlib-inline in /usr/local/lib/python3.10/dist-packages (from ipython->mdptoolbox-hiive) (0.1.6)\n",
            "Requirement already satisfied: pexpect>4.3 in /usr/local/lib/python3.10/dist-packages (from ipython->mdptoolbox-hiive) (4.8.0)\n",
            "Requirement already satisfied: pyparsing>=2.1.4 in /usr/local/lib/python3.10/dist-packages (from pydot->mdptoolbox-hiive) (3.1.1)\n",
            "Requirement already satisfied: parso<0.9.0,>=0.8.3 in /usr/local/lib/python3.10/dist-packages (from jedi>=0.16->ipython->mdptoolbox-hiive) (0.8.3)\n",
            "Requirement already satisfied: ptyprocess>=0.5 in /usr/local/lib/python3.10/dist-packages (from pexpect>4.3->ipython->mdptoolbox-hiive) (0.7.0)\n",
            "Requirement already satisfied: wcwidth in /usr/local/lib/python3.10/dist-packages (from prompt-toolkit!=3.0.0,!=3.0.1,<3.1.0,>=2.0.0->ipython->mdptoolbox-hiive) (0.2.10)\n",
            "Building wheels for collected packages: mdptoolbox-hiive\n",
            "  Building wheel for mdptoolbox-hiive (setup.py) ... \u001b[?25l\u001b[?25hdone\n",
            "  Created wheel for mdptoolbox-hiive: filename=mdptoolbox_hiive-4.0.3.1-py3-none-any.whl size=35120 sha256=8aa65b134172ba10931f02aedfbf52d6ec2a0c69992fd37b770986a8f1bfdf05\n",
            "  Stored in directory: /root/.cache/pip/wheels/3c/21/00/79fb3890bf11432b069070b7623416cd8b9f8501580692a52f\n",
            "Successfully built mdptoolbox-hiive\n",
            "Installing collected packages: jedi, mdptoolbox-hiive\n",
            "Successfully installed jedi-0.19.1 mdptoolbox-hiive-4.0.3.1\n"
          ]
        }
      ]
    },
    {
      "cell_type": "code",
      "source": [
        "import hiive.mdptoolbox.util as _util\n",
        "import scipy.sparse as sp\n",
        "import time as time\n",
        "\n",
        "def _computeDimensions(transition):\n",
        "    A = len(transition)\n",
        "    try:\n",
        "        if transition.ndim == 3:\n",
        "            S = transition.shape[1]\n",
        "        else:\n",
        "            S = transition[0].shape[0]\n",
        "    except AttributeError:\n",
        "        S = transition[0].shape[0]\n",
        "    return S, A\n",
        "\n",
        "def _printVerbosity(iteration, variation):\n",
        "    if isinstance(variation, float):\n",
        "        print(\"{:>10}{:>12f}\".format(iteration, variation))\n",
        "    elif isinstance(variation, int):\n",
        "        print(\"{:>10}{:>12d}\".format(iteration, variation))\n",
        "    else:\n",
        "        print(\"{:>10}{:>12}\".format(iteration, variation))\n",
        "\n",
        "class MDP:\n",
        "    \"\"\"A Markov Decision Problem.\n",
        "\n",
        "    Let ``S`` = the number of states, and ``A`` = the number of acions.\n",
        "\n",
        "    Parameters\n",
        "    ----------\n",
        "    transitions : array\n",
        "        Transition probability matrices. These can be defined in a variety of\n",
        "        ways. The simplest is a numpy array that has the shape ``(A, S, S)``,\n",
        "        though there are other possibilities. It can be a tuple or list or\n",
        "        numpy object array of length ``A``, where each element contains a numpy\n",
        "        array or matrix that has the shape ``(S, S)``. This \"list of matrices\"\n",
        "        form is useful when the transition matrices are sparse as\n",
        "        ``scipy.sparse.csr_matrix`` matrices can be used. In summary, each\n",
        "        action's transition matrix must be indexable like ``transitions[a]``\n",
        "        where ``a`` ∈ {0, 1...A-1}, and ``transitions[a]`` returns an ``S`` ×\n",
        "        ``S`` array-like object.\n",
        "    reward : array\n",
        "        Reward matrices or vectors. Like the transition matrices, these can\n",
        "        also be defined in a variety of ways. Again the simplest is a numpy\n",
        "        array that has the shape ``(S, A)``, ``(S,)`` or ``(A, S, S)``. A list\n",
        "        of lists can be used, where each inner list has length ``S`` and the\n",
        "        outer list has length ``A``. A list of numpy arrays is possible where\n",
        "        each inner array can be of the shape ``(S,)``, ``(S, 1)``, ``(1, S)``\n",
        "        or ``(S, S)``. Also ``scipy.sparse.csr_matrix`` can be used instead of\n",
        "        numpy arrays. In addition, the outer list can be replaced by any object\n",
        "        that can be indexed like ``reward[a]`` such as a tuple or numpy object\n",
        "        array of length ``A``.\n",
        "    gamma : float\n",
        "        Discount factor. The per time-step discount factor on future rewards.\n",
        "        Valid values are greater than 0 upto and including 1. If the discount\n",
        "        factor is 1, then convergence is cannot be assumed and a warning will\n",
        "        be displayed. Subclasses of ``MDP`` may pass ``None`` in the case where\n",
        "        the algorithm does not use a discount factor.\n",
        "    epsilon : float\n",
        "        Stopping criterion. The maximum change in the value function at each\n",
        "        iteration is compared against ``epsilon``. Once the change falls below\n",
        "        this value, then the value function is considered to have converged to\n",
        "        the optimal value function. Subclasses of ``MDP`` may pass ``None`` in\n",
        "        the case where the algorithm does not use an epsilon-optimal stopping\n",
        "        criterion.\n",
        "    max_iter : int\n",
        "        Maximum number of iterations. The algorithm will be terminated once\n",
        "        this many iterations have elapsed. This must be greater than 0 if\n",
        "        specified. Subclasses of ``MDP`` may pass ``None`` in the case where\n",
        "        the algorithm does not use a maximum number of iterations.\n",
        "    skip_check : bool\n",
        "        By default we run a check on the ``transitions`` and ``rewards``\n",
        "        arguments to make sure they describe a valid MDP. You can set this\n",
        "        argument to True in order to skip this check.\n",
        "\n",
        "    Attributes\n",
        "    ----------\n",
        "    P : array\n",
        "        Transition probability matrices.\n",
        "    R : array\n",
        "        Reward vectors.\n",
        "    V : tuple\n",
        "        The optimal value function. Each element is a float corresponding to\n",
        "        the expected value of being in that state assuming the optimal policy\n",
        "        is followed.\n",
        "    gamma : float\n",
        "        The discount rate on future rewards.\n",
        "    max_iter : int\n",
        "        The maximum number of iterations.\n",
        "    policy : tuple\n",
        "        The optimal policy.\n",
        "    time : float\n",
        "        The time used to converge to the optimal policy.\n",
        "    verbose : boolean\n",
        "        Whether verbose output should be displayed or not.\n",
        "\n",
        "    Methods\n",
        "    -------\n",
        "    run\n",
        "        Implemented in child classes as the main algorithm loop. Raises an\n",
        "        exception if it has not been overridden.\n",
        "    setSilent\n",
        "        Turn the verbosity off\n",
        "    setVerbose\n",
        "        Turn the verbosity on\n",
        "\n",
        "    \"\"\"\n",
        "\n",
        "    def __init__(self, transitions, reward, gamma, epsilon, max_iter,\n",
        "                 skip_check=False):\n",
        "        # Initialise a MDP based on the input parameters.\n",
        "\n",
        "        # if the discount is None then the algorithm is assumed to not use it\n",
        "        # in its computations\n",
        "        if gamma is not None:\n",
        "            self.gamma = float(gamma)\n",
        "            assert 0.0 < self.gamma <= 1.0, (\n",
        "                \"Discount rate must be in ]0; 1]\"\n",
        "            )\n",
        "            if self.gamma == 1:\n",
        "                print(\"WARNING: check conditions of convergence. With no \"\n",
        "                      \"discount, convergence can not be assumed.\")\n",
        "\n",
        "        # if the max_iter is None then the algorithm is assumed to not use it\n",
        "        # in its computations\n",
        "        if max_iter is not None:\n",
        "            self.max_iter = int(max_iter)\n",
        "            assert self.max_iter > 0, (\n",
        "                \"The maximum number of iterations must be greater than 0.\"\n",
        "            )\n",
        "\n",
        "        # check that epsilon is something sane\n",
        "        if epsilon is not None:\n",
        "            self.epsilon = float(epsilon)\n",
        "            assert self.epsilon > 0, \"Epsilon must be greater than 0.\"\n",
        "\n",
        "        if not skip_check:\n",
        "            # We run a check on P and R to make sure they are describing an\n",
        "            # MDP. If an exception isn't raised then they are assumed to be\n",
        "            # correct.\n",
        "            _util.check(transitions, reward)\n",
        "\n",
        "        self.S, self.A = _computeDimensions(transitions)\n",
        "        self.P = self._computeTransition(transitions)\n",
        "        self.R = self._computeReward(reward, transitions)\n",
        "\n",
        "        # the verbosity is by default turned off\n",
        "        self.verbose = False\n",
        "        # Initially the time taken to perform the computations is set to None\n",
        "        self.time = None\n",
        "        # set the initial iteration count to zero\n",
        "        self.iter = 0\n",
        "        # V should be stored as a vector ie shape of (S,) or (1, S)\n",
        "        self.V = None\n",
        "        # policy can also be stored as a vector\n",
        "        self.policy = None\n",
        "\n",
        "    def __repr__(self):\n",
        "        P_repr = \"P: \\n\"\n",
        "        R_repr = \"R: \\n\"\n",
        "        for aa in range(self.A):\n",
        "            P_repr += repr(self.P[aa]) + \"\\n\"\n",
        "            R_repr += repr(self.R[aa]) + \"\\n\"\n",
        "        return (P_repr + \"\\n\" + R_repr)\n",
        "\n",
        "    def _bellmanOperator(self, V=None):\n",
        "        # Apply the Bellman operator on the value function.\n",
        "        #\n",
        "        # Updates the value function and the Vprev-improving policy.\n",
        "        #\n",
        "        # Returns: (policy, value), tuple of new policy and its value\n",
        "        #\n",
        "        # If V hasn't been sent into the method, then we assume to be working\n",
        "        # on the objects V attribute\n",
        "        if V is None:\n",
        "            # this V should be a reference to the data rather than a copy\n",
        "            V = self.V\n",
        "        else:\n",
        "            # make sure the user supplied V is of the right shape\n",
        "            try:\n",
        "                assert V.shape in ((self.S,), (1, self.S)), \"V is not the \" \\\n",
        "                                                            \"right shape (Bellman operator).\"\n",
        "            except AttributeError:\n",
        "                raise TypeError(\"V must be a numpy array or matrix.\")\n",
        "        # Looping through each action the the Q-value matrix is calculated.\n",
        "        # P and V can be any object that supports indexing, so it is important\n",
        "        # that you know they define a valid MDP before calling the\n",
        "        # _bellmanOperator method. Otherwise the results will be meaningless.\n",
        "        Q = np.empty((self.A, self.S))\n",
        "        for aa in range(self.A):\n",
        "            Q[aa] = self.R[aa] + self.gamma * self.P[aa].dot(V)\n",
        "        # Get the policy and value, for now it is being returned but...\n",
        "        # Which way is better?\n",
        "        # 1. Return, (policy, value)\n",
        "        return (Q.argmax(axis=0), Q.max(axis=0))\n",
        "        # 2. update self.policy and self.V directly\n",
        "        # self.V = Q.max(axis=1)\n",
        "        # self.policy = Q.argmax(axis=1)\n",
        "\n",
        "    def _computeTransition(self, transition):\n",
        "        return tuple(transition[a] for a in range(self.A))\n",
        "\n",
        "    def _computeReward(self, reward, transition):\n",
        "        # Compute the reward for the system in one state chosing an action.\n",
        "        # Arguments\n",
        "        # Let S = number of states, A = number of actions\n",
        "        # P could be an array with 3 dimensions or  a cell array (1xA),\n",
        "        # each cell containing a matrix (SxS) possibly sparse\n",
        "        # R could be an array with 3 dimensions (SxSxA) or  a cell array\n",
        "        # (1xA), each cell containing a sparse matrix (SxS) or a 2D\n",
        "        # array(SxA) possibly sparse\n",
        "        try:\n",
        "            if reward.ndim == 1:\n",
        "                return self._computeVectorReward(reward)\n",
        "            elif reward.ndim == 2:\n",
        "                return self._computeArrayReward(reward)\n",
        "            else:\n",
        "                r = tuple(map(self._computeMatrixReward, reward, transition))\n",
        "                return r\n",
        "        except (AttributeError, ValueError):\n",
        "            if len(reward) == self.A:\n",
        "                r = tuple(map(self._computeMatrixReward, reward, transition))\n",
        "                return r\n",
        "            else:\n",
        "                return self._computeVectorReward(reward)\n",
        "\n",
        "    def _computeVectorReward(self, reward):\n",
        "        if sp.issparse(reward):\n",
        "            raise NotImplementedError\n",
        "        else:\n",
        "            r = np.array(reward).reshape(self.S)\n",
        "            return tuple(r for a in range(self.A))\n",
        "\n",
        "    def _computeArrayReward(self, reward):\n",
        "        if sp.issparse(reward):\n",
        "            raise NotImplementedError\n",
        "        else:\n",
        "            def func(x):\n",
        "                return np.array(x).reshape(self.S)\n",
        "\n",
        "            return tuple(func(reward[:, a]) for a in range(self.A))\n",
        "\n",
        "    def _computeMatrixReward(self, reward, transition):\n",
        "        if sp.issparse(reward):\n",
        "            # An approach like this might be more memory efficeint\n",
        "            # reward.data = reward.data * transition[reward.nonzero()]\n",
        "            # return reward.sum(1).A.reshape(self.S)\n",
        "            # but doesn't work as it is.\n",
        "            return reward.multiply(transition).sum(1).A.reshape(self.S)\n",
        "        elif sp.issparse(transition):\n",
        "            return transition.multiply(reward).sum(1).A.reshape(self.S)\n",
        "        else:\n",
        "            return np.multiply(transition, reward).sum(1).reshape(self.S)\n",
        "\n",
        "    def _startRun(self):\n",
        "        if self.verbose:\n",
        "            _printVerbosity('Iteration', 'Variation')\n",
        "\n",
        "        self.time = time.time()\n",
        "\n",
        "    def _endRun(self):\n",
        "        # store value and policy as tuples\n",
        "        self.V = tuple(self.V.tolist())\n",
        "\n",
        "        try:\n",
        "            self.policy = tuple(self.policy.tolist())\n",
        "        except AttributeError:\n",
        "            self.policy = tuple(self.policy)\n",
        "\n",
        "        self.time = time.time() - self.time\n",
        "\n",
        "    def run(self):\n",
        "        \"\"\"Raises error because child classes should implement this function.\n",
        "        \"\"\"\n",
        "        raise NotImplementedError(\"You should create a run() method.\")\n",
        "\n",
        "    def setSilent(self):\n",
        "        \"\"\"Set the MDP algorithm to silent mode.\"\"\"\n",
        "        self.verbose = False\n",
        "\n",
        "    def setVerbose(self):\n",
        "        \"\"\"Set the MDP algorithm to verbose mode.\"\"\"\n",
        "        self.verbose = True\n",
        "\n",
        "class QLearning(MDP):\n",
        "    \"\"\"A discounted MDP solved using the Q learning algorithm.\n",
        "\n",
        "    Parameters\n",
        "    ----------\n",
        "    transitions : array\n",
        "        Transition probability matrices. See the documentation for the ``MDP``\n",
        "        class for details.\n",
        "    reward : array\n",
        "        Reward matrices or vectors. See the documentation for the ``MDP`` class\n",
        "        for details.\n",
        "    gamma : float\n",
        "        Discount factor. See the documentation for the ``MDP`` class for\n",
        "        details.\n",
        "    n_iter : int, optional\n",
        "        Number of iterations to execute. This is ignored unless it is an\n",
        "        integer greater than the default value. Defaut: 10,000.\n",
        "    skip_check : bool\n",
        "        By default we run a check on the ``transitions`` and ``rewards``\n",
        "        arguments to make sure they describe a valid MDP. You can set this\n",
        "        argument to True in order to skip this check.\n",
        "\n",
        "    Data Attributes\n",
        "    ---------------\n",
        "    Q : array\n",
        "        learned Q matrix (SxA)\n",
        "    V : tuple\n",
        "        learned value function (S).\n",
        "    policy : tuple\n",
        "        learned optimal policy (S).\n",
        "    mean_discrepancy : array\n",
        "        Vector of V discrepancy mean over 100 iterations. Then the length of\n",
        "        this vector for the default value of N is 100 (N/100).\n",
        "\n",
        "    Examples\n",
        "    ---------\n",
        "    >>> # These examples are reproducible only if random seed is set to 0 in\n",
        "    >>> # both the random and numpy.random modules.\n",
        "    >>> import numpy as np\n",
        "    >>> import hiive.mdptoolbox, hiive.mdptoolbox.example\n",
        "    >>> np.random.seed(0)\n",
        "    >>> P, R = mdptoolbox.example.forest()\n",
        "    >>> ql = mdptoolbox.mdp.QLearning(P, R, 0.96)\n",
        "    >>> ql.run()\n",
        "    >>> ql.Q\n",
        "    array([[ 11.198909  ,  10.34652034],\n",
        "           [ 10.74229967,  11.74105792],\n",
        "           [  2.86980001,  12.25973286]])\n",
        "    >>> expected = (11.198908998901134, 11.741057920409865, 12.259732864170232)\n",
        "    >>> all(expected[k] - ql.V[k] < 1e-12 for k in range(len(expected)))\n",
        "    True\n",
        "    >>> ql.policy\n",
        "    (0, 1, 1)\n",
        "\n",
        "    >>> import hiive.mdptoolbox\n",
        "    >>> import numpy as np\n",
        "    >>> P = np.array([[[0.5, 0.5],[0.8, 0.2]],[[0, 1],[0.1, 0.9]]])\n",
        "    >>> R = np.array([[5, 10], [-1, 2]])\n",
        "    >>> np.random.seed(0)\n",
        "    >>> ql = mdptoolbox.mdp.QLearning(P, R, 0.9)\n",
        "    >>> ql.run()\n",
        "    >>> ql.Q\n",
        "    array([[ 33.33010866,  40.82109565],\n",
        "           [ 34.37431041,  29.67236845]])\n",
        "    >>> expected = (40.82109564847122, 34.37431040682546)\n",
        "    >>> all(expected[k] - ql.V[k] < 1e-12 for k in range(len(expected)))\n",
        "    True\n",
        "    >>> ql.policy\n",
        "    (1, 0)\n",
        "\n",
        "    \"\"\"\n",
        "\n",
        "    def __init__(self, transitions, reward, potential, gamma,\n",
        "                 alpha=0.1, alpha_decay=0.99, alpha_min=0.001,\n",
        "                 epsilon=1.0, epsilon_min=0.1, epsilon_decay=0.99,\n",
        "                 n_iter=10000, skip_check=False, iter_callback=None,\n",
        "                 run_stat_frequency=None):\n",
        "        # Initialise a Q-learning MDP.\n",
        "\n",
        "        # The following check won't be done in MDP()'s initialisation, so let's\n",
        "        # do it here\n",
        "        self.max_iter = int(n_iter)\n",
        "        assert self.max_iter >= 10000, \"'n_iter' should be greater than 10000.\"\n",
        "\n",
        "        if not skip_check:\n",
        "            # We don't want to send this to MDP because _computePR should not\n",
        "            #  be run on it, so check that it defines an MDP\n",
        "            _util.check(transitions, reward)\n",
        "\n",
        "        # Store P, S, and A\n",
        "        self.S, self.A = _computeDimensions(transitions)\n",
        "        self.P = self._computeTransition(transitions)\n",
        "\n",
        "        self.R = reward\n",
        "\n",
        "        self.potential = potential\n",
        "\n",
        "        self.alpha = np.clip(alpha, 0., 1.)\n",
        "        self.alpha_start = self.alpha\n",
        "        self.alpha_decay = np.clip(alpha_decay, 0., 1.)\n",
        "        self.alpha_min = np.clip(alpha_min, 0., 1.)\n",
        "        self.gamma = np.clip(gamma, 0., 1.)\n",
        "        self.epsilon = np.clip(epsilon, 0., 1.)\n",
        "        self.epsilon_start = self.epsilon\n",
        "        self.epsilon_decay = np.clip(epsilon_decay, 0., 1.)\n",
        "        self.epsilon_min = np.clip(epsilon_min, 0., 1.)\n",
        "\n",
        "        # Initialisations\n",
        "        self.Q = np.zeros((self.S, self.A))\n",
        "\n",
        "        self.run_stats = []\n",
        "        self.error_mean = []\n",
        "        self.v_mean = []\n",
        "        self.p_cumulative = []\n",
        "        self.iter_callback = iter_callback\n",
        "        self.S_freq = np.zeros((self.S, self.A))\n",
        "        self.run_stat_frequency = max(1, self.max_iter // 10000) if run_stat_frequency is None else run_stat_frequency\n",
        "\n",
        "    def run(self):\n",
        "\n",
        "        # Run the Q-learning algorithm.\n",
        "        error_cumulative = []\n",
        "        self.run_stats = []\n",
        "        self.error_mean = []\n",
        "\n",
        "        v_cumulative = []\n",
        "        self.v_mean = []\n",
        "\n",
        "        self.p_cumulative = []\n",
        "\n",
        "        self.time = time.time()\n",
        "\n",
        "        # initial state choice\n",
        "        s = np.random.randint(0, self.S)\n",
        "        reset_s = False\n",
        "        run_stats = []\n",
        "        for n in range(1, self.max_iter + 1):\n",
        "\n",
        "            take_run_stat = n % self.run_stat_frequency == 0 or n == self.max_iter\n",
        "\n",
        "            # Reinitialisation of trajectories every 100 transitions\n",
        "            if (self.iter_callback is None and (n % 100) == 0) or reset_s:\n",
        "                s = np.random.randint(0, self.S)\n",
        "\n",
        "            # Action choice : greedy with increasing probability\n",
        "            # The agent takes random actions for probability ε and greedy action for probability (1-ε).\n",
        "            pn = np.random.random()\n",
        "            if pn < self.epsilon:\n",
        "                a = np.random.randint(0, self.A)\n",
        "            else:\n",
        "                # optimal_action = self.Q[s, :].max()\n",
        "                a = self.Q[s, :].argmax()\n",
        "\n",
        "            # Simulating next state s_new and reward associated to <s,s_new,a>\n",
        "            p_s_new = np.random.random()\n",
        "            p = 0\n",
        "            s_new = -1\n",
        "            while (p < p_s_new) and (s_new < (self.S - 1)):\n",
        "                s_new = s_new + 1\n",
        "                p = p + self.P[a][s, s_new]\n",
        "\n",
        "            try:\n",
        "                r = self.R[a][s, s_new]\n",
        "            except IndexError:\n",
        "                try:\n",
        "                    r = self.R[s, a]\n",
        "                except IndexError:\n",
        "                    r = self.R[s]\n",
        "\n",
        "            # Q[s, a] = Q[s, a] + alpha*(R + gamma*Max[Q(s’, A)] - Q[s, a])\n",
        "            # Updating the value of Q\n",
        "            dQ = self.alpha * (r + (self.gamma * self.potential[s_new] - self.potential[s]) + self.gamma * self.Q[s_new, :].max() - self.Q[s, a])\n",
        "            self.Q[s, a] = self.Q[s, a] + dQ\n",
        "\n",
        "            # Computing means all over maximal Q variations values\n",
        "            error = np.absolute(dQ)\n",
        "\n",
        "            # compute the value function and the policy\n",
        "            v = self.Q.max(axis=1)\n",
        "            self.V = v\n",
        "            p = self.Q.argmax(axis=1)\n",
        "            self.policy = p\n",
        "\n",
        "            self.S_freq[s,a] += 1\n",
        "            run_stats.append(self._build_run_stat(i=n, s=s, a=a, r=r, p=p, v=v, error=error))\n",
        "\n",
        "            if take_run_stat:\n",
        "                error_cumulative.append(error)\n",
        "\n",
        "                if len(error_cumulative) == 100:\n",
        "                    self.error_mean.append(np.mean(error_cumulative))\n",
        "                    error_cumulative = []\n",
        "\n",
        "                v_cumulative.append(v)\n",
        "\n",
        "                if len(v_cumulative) == 100:\n",
        "                    self.v_mean.append(np.mean(v_cumulative, axis=1))\n",
        "                    v_cumulative = []\n",
        "\n",
        "                if len(self.p_cumulative) == 0 or not np.array_equal(self.policy, self.p_cumulative[-1][1]):\n",
        "                    self.p_cumulative.append((n, self.policy.copy()))\n",
        "                \"\"\"\n",
        "                Rewards,errors time at each iteration I think\n",
        "                But that’s for all of them and steps per episode?\n",
        "\n",
        "                Alpha decay and min ?\n",
        "                And alpha and epsilon at each iteration?\n",
        "                \"\"\"\n",
        "                self.run_stats.append(run_stats[-1])\n",
        "                run_stats = []\n",
        "\n",
        "            if self.iter_callback is not None:\n",
        "                reset_s = self.iter_callback(s, a, s_new)\n",
        "\n",
        "            # current state is updated\n",
        "            s = s_new\n",
        "\n",
        "            self.alpha *= self.alpha_decay\n",
        "            if self.alpha < self.alpha_min:\n",
        "                self.alpha = self.alpha_min\n",
        "\n",
        "            self.epsilon *= self.epsilon_decay\n",
        "            if self.epsilon < self.epsilon_min:\n",
        "                self.epsilon = self.epsilon_min\n",
        "\n",
        "        self._endRun()\n",
        "        # add stragglers\n",
        "        if len(v_cumulative) > 0:\n",
        "            self.v_mean.append(np.mean(v_cumulative, axis=1))\n",
        "        if len(error_cumulative) > 0:\n",
        "            self.error_mean.append(np.mean(error_cumulative))\n",
        "        if self.run_stats is None or len(self.run_stats) == 0:\n",
        "            self.run_stats = run_stats\n",
        "        return self.run_stats\n",
        "\n",
        "    def _build_run_stat(self, i, a, error, p, r, s, v):\n",
        "        run_stat = {\n",
        "            'State': s,\n",
        "            'Action': a,\n",
        "            'Reward': r,\n",
        "            'Error': error,\n",
        "            'Time': time.time() - self.time,\n",
        "            'Alpha': self.alpha,\n",
        "            'Epsilon': self.epsilon,\n",
        "            'Gamma': self.gamma,\n",
        "            'V[0]': v[0],\n",
        "            'Max V': np.max(v),\n",
        "            'Mean V': np.mean(v),\n",
        "            'Iteration': i,\n",
        "            # 'Value': v.copy(),\n",
        "             'Policy': p.copy()\n",
        "        }\n",
        "        return run_stat"
      ],
      "metadata": {
        "id": "YeKNP1vYdBTw"
      },
      "execution_count": 221,
      "outputs": []
    },
    {
      "cell_type": "markdown",
      "source": [
        "## Forest Management"
      ],
      "metadata": {
        "id": "A4q64DHetpXf"
      }
    },
    {
      "cell_type": "code",
      "source": [
        "potentials = [100 * (1 - (100 - i) / (100)) / .999 for i in range(101)]\n",
        "print(potentials)"
      ],
      "metadata": {
        "colab": {
          "base_uri": "https://localhost:8080/"
        },
        "id": "Q1YCaY9DJ4ll",
        "outputId": "728e7b77-d8ee-451d-a0f2-622e2c511919"
      },
      "execution_count": 264,
      "outputs": [
        {
          "output_type": "stream",
          "name": "stdout",
          "text": [
            "[0.0, 1.001001001001002, 2.002002002002004, 3.0030030030030055, 4.004004004004008, 5.0050050050050094, 6.006006006006011, 7.007007007007002, 8.008008008008005, 9.009009009009006, 10.010010010010008, 11.011011011011009, 12.012012012012011, 13.013013013013014, 14.014014014014016, 15.015015015015017, 16.01601601601602, 17.01701701701702, 18.018018018018022, 19.019019019019012, 20.020020020020016, 21.021021021021017, 22.022022022022018, 23.023023023023022, 24.024024024024023, 25.025025025025027, 26.026026026026027, 27.027027027027028, 28.028028028028032, 29.029029029029033, 30.030030030030034, 31.031031031031038, 32.03203203203203, 33.03303303303303, 34.034034034034036, 35.03503503503504, 36.03603603603604, 37.03703703703704, 38.03803803803804, 39.03903903903904, 40.04004004004004, 41.04104104104104, 42.04204204204205, 43.04304304304305, 44.044044044044036, 45.045045045045036, 46.046046046046044, 47.047047047047045, 48.048048048048045, 49.049049049049046, 50.050050050050054, 51.051051051051054, 52.052052052052055, 53.053053053053056, 54.054054054054056, 55.055055055055064, 56.056056056056065, 57.057057057057065, 58.058058058058066, 59.05905905905907, 60.06006006006006, 61.06106106106106, 62.06206206206206, 63.06306306306306, 64.06406406406407, 65.06506506506507, 66.06606606606606, 67.06706706706707, 68.06806806806807, 69.06906906906907, 70.07007007007007, 71.07107107107107, 72.07207207207207, 73.07307307307308, 74.07407407407408, 75.07507507507508, 76.07607607607608, 77.07707707707708, 78.07807807807808, 79.07907907907908, 80.08008008008008, 81.08108108108108, 82.08208208208208, 83.08308308308308, 84.08408408408408, 85.08508508508508, 86.08608608608608, 87.08708708708708, 88.08808808808809, 89.08908908908909, 90.09009009009009, 91.09109109109109, 92.09209209209209, 93.09309309309309, 94.09409409409409, 95.09509509509509, 96.09609609609609, 97.09709709709709, 98.09809809809809, 99.09909909909909, 100.10010010010011]\n"
          ]
        }
      ]
    },
    {
      "cell_type": "code",
      "source": [
        "import hiive.mdptoolbox.example\n",
        "import numpy as np\n",
        "from hiive import mdptoolbox\n",
        "from hiive.mdptoolbox import mdp\n",
        "P, R = mdptoolbox.example.forest(S=100, p=0.001, r1=200, r2=1)\n",
        "\n",
        "epsilons = [.999, .99, .9]\n",
        "potentials = potentials\n",
        "\n",
        "stats = []\n",
        "\n",
        "for epsilon in epsilons:\n",
        "  ql = QLearning(P, R, potentials, 1.00, alpha_decay = .99, epsilon_decay=epsilon, epsilon_min=0.01, n_iter=10000)\n",
        "  ql.run() # result is (0, 0, 0)\n",
        "  stats.append(ql.run_stats)\n",
        "# significant note: when you're in the last state, you can stay there until a fire breaks out\n",
        "# topics to explore: effect of size; effect of p vs. decay; effect of r1 and r2;\n",
        "# why does value iteration take so much longer"
      ],
      "metadata": {
        "id": "9InVjTQGz-j1"
      },
      "execution_count": null,
      "outputs": []
    },
    {
      "cell_type": "code",
      "source": [
        "alphas = [.05, .1, .2]\n",
        "\n",
        "stats = []\n",
        "potentials = [0.0] * 100\n",
        "\n",
        "for alpha in alphas:\n",
        "  ql = QLearning(P, R, potentials, 1.00, alpha=alpha, alpha_decay = .99, epsilon_decay=.99, epsilon_min=0.01, n_iter=10000)\n",
        "  ql.run() # result is (0, 0, 0)\n",
        "  stats.append(ql.run_stats)"
      ],
      "metadata": {
        "id": "XrY94R06JlWJ"
      },
      "execution_count": null,
      "outputs": []
    },
    {
      "cell_type": "code",
      "source": [
        "potentials = [50 * (1 - (100 - i) / (100)) / .999 for i in range(101)]\n",
        "\n",
        "P, R = mdptoolbox.example.forest(S=100, p=0.001, r1=200, r2=1)\n",
        "ql = QLearning(P, R, potentials, 1.00, alpha=.1, alpha_decay = .99, epsilon_decay=.99, epsilon_min=0.01, n_iter=10000)\n",
        "ql.run()\n",
        "pi_array = np.array(ql.run_stats[-1]['Policy']).reshape((10, 10))\n",
        "\n",
        "legend_elements = [\n",
        "        Patch(facecolor=\"black\", edgecolor=\"black\", label=\"Wait\"),\n",
        "        Patch(facecolor=\"white\", edgecolor=\"black\", label=\"Cut\"),\n",
        "    ]\n",
        "\n",
        "sns.heatmap(pi_array, cmap=[\"black\", \"white\"], cbar=False)\n",
        "plt.legend(handles=legend_elements, bbox_to_anchor=(1.3, 1))\n",
        "plt.title(\"Foresting Policy, Q-Learning, 50 Potential\")\n",
        "plt.tight_layout()\n",
        "plt.savefig(\"ql_forest_50_potential.png\")"
      ],
      "metadata": {
        "id": "YECR_dleVEzT",
        "colab": {
          "base_uri": "https://localhost:8080/",
          "height": 487
        },
        "outputId": "124bad14-e1bb-41f7-d91f-c87da70ce785"
      },
      "execution_count": 276,
      "outputs": [
        {
          "output_type": "display_data",
          "data": {
            "text/plain": [
              "<Figure size 640x480 with 1 Axes>"
            ],
            "image/png": "[encoded data removed]"
          },
          "metadata": {}
        }
      ]
    },
    {
      "cell_type": "code",
      "source": [
        "import matplotlib.pyplot as plt\n",
        "for i, run_log in enumerate(stats):\n",
        "  iterations = [i for i in range(0, 10000)]\n",
        "  p_total = [np.sum(s['Policy']) for s in run_log]\n",
        "  plt.plot(iterations, p_total, label=\"Alpha \" + str(alphas[i]))\n",
        "  plt.legend()\n",
        "\n",
        "plt.xlabel(\"Iterations\")\n",
        "plt.ylabel(\"Number of 1s in Policy\")\n",
        "plt.title(\"Effect of Learning Rate on Q-Learning for Forest Problem\")\n",
        "plt.savefig(\"QL_Forest_Learning.png\")"
      ],
      "metadata": {
        "colab": {
          "base_uri": "https://localhost:8080/",
          "height": 472
        },
        "id": "9VTuxEr1USX8",
        "outputId": "3a5ecc59-551e-4410-9413-c38da50430b6"
      },
      "execution_count": null,
      "outputs": [
        {
          "output_type": "display_data",
          "data": {
            "text/plain": [
              "<Figure size 640x480 with 1 Axes>"
            ],
            "image/png": "[encoded data removed]"
          },
          "metadata": {}
        }
      ]
    },
    {
      "cell_type": "code",
      "source": [
        "import matplotlib.pyplot as plt\n",
        "for i, run_log in enumerate(stats):\n",
        "  iterations = [i for i in range(0, 10000)]\n",
        "  p_total = [np.sum(s['Policy']) for s in run_log]\n",
        "  plt.plot(iterations, p_total, label=\"Epsilon \" + str(epsilons[i]))\n",
        "  plt.legend()\n",
        "\n",
        "plt.xlabel(\"Iterations\")\n",
        "plt.ylabel(\"Number of 1s in Policy\")\n",
        "plt.title(\"Q-Learning for Forest Problem with Potential-based Shaping\")\n",
        "plt.savefig(\"QL_Potential_Learning_Forest.png\")"
      ],
      "metadata": {
        "colab": {
          "base_uri": "https://localhost:8080/",
          "height": 472
        },
        "id": "SCrvonroNIzT",
        "outputId": "c16cb868-1623-4363-b2f3-0543a1741b0a"
      },
      "execution_count": null,
      "outputs": [
        {
          "output_type": "display_data",
          "data": {
            "text/plain": [
              "<Figure size 640x480 with 1 Axes>"
            ],
            "image/png": "[encoded data removed]"
          },
          "metadata": {}
        }
      ]
    },
    {
      "cell_type": "code",
      "source": [
        "rewards = [2]\n",
        "for i in range(1, 100):\n",
        "  rewards.append(rewards[i - 1] * 1.0)\n",
        "rewards = rewards[::-1]\n",
        "print(rewards)\n",
        "\n",
        "penalties = [-1]\n",
        "\n",
        "for i in range(1, 100):\n",
        "  penalties.append(penalties[i - 1] - 2)\n",
        "print(penalties)"
      ],
      "metadata": {
        "colab": {
          "base_uri": "https://localhost:8080/"
        },
        "id": "SY9Kafk_Jtwd",
        "outputId": "84ae33a1-7784-4724-a795-683d5f338a0c"
      },
      "execution_count": null,
      "outputs": [
        {
          "output_type": "stream",
          "name": "stdout",
          "text": [
            "[2.0, 2.0, 2.0, 2.0, 2.0, 2.0, 2.0, 2.0, 2.0, 2.0, 2.0, 2.0, 2.0, 2.0, 2.0, 2.0, 2.0, 2.0, 2.0, 2.0, 2.0, 2.0, 2.0, 2.0, 2.0, 2.0, 2.0, 2.0, 2.0, 2.0, 2.0, 2.0, 2.0, 2.0, 2.0, 2.0, 2.0, 2.0, 2.0, 2.0, 2.0, 2.0, 2.0, 2.0, 2.0, 2.0, 2.0, 2.0, 2.0, 2.0, 2.0, 2.0, 2.0, 2.0, 2.0, 2.0, 2.0, 2.0, 2.0, 2.0, 2.0, 2.0, 2.0, 2.0, 2.0, 2.0, 2.0, 2.0, 2.0, 2.0, 2.0, 2.0, 2.0, 2.0, 2.0, 2.0, 2.0, 2.0, 2.0, 2.0, 2.0, 2.0, 2.0, 2.0, 2.0, 2.0, 2.0, 2.0, 2.0, 2.0, 2.0, 2.0, 2.0, 2.0, 2.0, 2.0, 2.0, 2.0, 2.0, 2]\n",
            "[-1, -3, -5, -7, -9, -11, -13, -15, -17, -19, -21, -23, -25, -27, -29, -31, -33, -35, -37, -39, -41, -43, -45, -47, -49, -51, -53, -55, -57, -59, -61, -63, -65, -67, -69, -71, -73, -75, -77, -79, -81, -83, -85, -87, -89, -91, -93, -95, -97, -99, -101, -103, -105, -107, -109, -111, -113, -115, -117, -119, -121, -123, -125, -127, -129, -131, -133, -135, -137, -139, -141, -143, -145, -147, -149, -151, -153, -155, -157, -159, -161, -163, -165, -167, -169, -171, -173, -175, -177, -179, -181, -183, -185, -187, -189, -191, -193, -195, -197, -199]\n"
          ]
        }
      ]
    },
    {
      "cell_type": "code",
      "source": [],
      "metadata": {
        "id": "OXcTOew3Bi9R"
      },
      "execution_count": 221,
      "outputs": []
    },
    {
      "cell_type": "code",
      "source": [],
      "metadata": {
        "id": "1MAD8w8ZLaP_"
      },
      "execution_count": 221,
      "outputs": []
    },
    {
      "cell_type": "code",
      "source": [
        "import hiive.mdptoolbox.example\n",
        "from hiive import mdptoolbox\n",
        "from hiive.mdptoolbox import mdp\n",
        "\n",
        "import hiive.mdptoolbox.example\n",
        "from hiive import mdptoolbox\n",
        "from hiive.mdptoolbox import mdp\n",
        "import time\n",
        "\n",
        "pi_iter_stats = []\n",
        "vi_iter_stats = []\n",
        "\n",
        "pi_runtimes = []\n",
        "vi_runtimes = []\n",
        "\n",
        "for i in range(4, 100):\n",
        "\n",
        "  P, R = mdptoolbox.example.forest(S=i, p=1 / (i), r1=1, r2=1)\n",
        "  pi = mdp.PolicyIteration(P, R, 0.99)\n",
        "\n",
        "  start = time.time()\n",
        "  pi.run() # result is (0, 0, 0)\n",
        "  end = time.time()\n",
        "  pi_runtimes.append(end - start)\n",
        "\n",
        "  run_stats = pi.run_stats\n",
        "  pi_iter_stats.append(len(run_stats))\n",
        "\n",
        "  vi = mdp.ValueIteration(P, R, 0.99)\n",
        "\n",
        "  start = time.time()\n",
        "  vi.run() # result is (0, 0, 0)\n",
        "  end = time.time()\n",
        "  vi_runtimes.append(end - start)\n",
        "\n",
        "  run_stats = vi.run_stats\n",
        "  vi_iter_stats.append(len(run_stats))\n",
        "\n",
        "# significant note: when you're in the last state, you can stay there until a fire breaks out\n",
        "# topics to explore: effect of size; effect of p vs. decay; effect of r1 and r2;\n",
        "# why does value iteration take so much longer"
      ],
      "metadata": {
        "id": "zwrGVENnz0xF"
      },
      "execution_count": 288,
      "outputs": []
    },
    {
      "cell_type": "code",
      "source": [
        "print(run_stats)"
      ],
      "metadata": {
        "colab": {
          "base_uri": "https://localhost:8080/"
        },
        "id": "pXPZvMTAUCDX",
        "outputId": "08286307-466a-43d8-eaaf-80aa40ce9c39"
      },
      "execution_count": 284,
      "outputs": [
        {
          "output_type": "stream",
          "name": "stdout",
          "text": [
            "[{'State': None, 'Action': None, 'Reward': 49.5, 'Error': 49.5, 'Time': 8.726119995117188e-05, 'Max V': 49.5, 'Mean V': 1.47979797979798, 'Iteration': 1}, {'State': None, 'Action': None, 'Reward': 98.00999999999999, 'Error': 48.50999999999999, 'Time': 0.00018906593322753906, 'Max V': 98.00999999999999, 'Mean V': 2.45959595959596, 'Iteration': 2}, {'State': None, 'Action': None, 'Reward': 145.5596, 'Error': 47.5398, 'Time': 0.00028252601623535156, 'Max V': 145.5596, 'Mean V': 4.821490909090908, 'Iteration': 3}, {'State': None, 'Action': None, 'Reward': 192.15830599999998, 'Error': 46.589003999999996, 'Time': 0.00036835670471191406, 'Max V': 192.15830599999998, 'Mean V': 6.703281878787878, 'Iteration': 4}, {'State': None, 'Action': None, 'Reward': 237.83454681999999, 'Error': 45.65722392000001, 'Time': 0.00045418739318847656, 'Max V': 237.83454681999999, 'Mean V': 9.8748842179798, 'Iteration': 5}, {'State': None, 'Action': None, 'Reward': 282.5974529926, 'Error': 44.74407944160003, 'Time': 0.0005385875701904297, 'Max V': 282.5974529926, 'Mean V': 12.585484982175757, 'Iteration': 6}, {'State': None, 'Action': None, 'Reward': 326.47432851702604, 'Error': 43.84919785276806, 'Time': 0.0006222724914550781, 'Max V': 326.47432851702604, 'Mean V': 16.498751274722647, 'Iteration': 7}, {'State': None, 'Action': None, 'Reward': 369.4739433076801, 'Error': 42.972213895712684, 'Time': 0.0007042884826660156, 'Max V': 369.4739433076801, 'Mean V': 19.969356474291178, 'Iteration': 8}, {'State': None, 'Action': None, 'Reward': 411.62252106680296, 'Error': 42.11276961779843, 'Time': 0.0007898807525634766, 'Max V': 411.62252106680296, 'Mean V': 24.560358807828788, 'Iteration': 9}, {'State': None, 'Action': None, 'Reward': 452.9284853521566, 'Error': 41.27051422544247, 'Time': 0.0008950233459472656, 'Max V': 452.9284853521566, 'Mean V': 28.726309033933035, 'Iteration': 10}, {'State': None, 'Action': None, 'Reward': 493.4170223300236, 'Error': 40.44510394093364, 'Time': 0.000985860824584961, 'Max V': 493.4170223300236, 'Mean V': 33.93501584850321, 'Iteration': 11}, {'State': None, 'Action': None, 'Reward': 533.0962228987026, 'Error': 39.636201862114994, 'Time': 0.0010707378387451172, 'Max V': 533.0962228987026, 'Mean V': 38.73557725532787, 'Iteration': 12}, {'State': None, 'Action': None, 'Reward': 571.9902767565812, 'Error': 38.84347782487271, 'Time': 0.0011546611785888672, 'Max V': 571.9902767565812, 'Mean V': 44.505645074904194, 'Iteration': 13}, {'State': None, 'Action': None, 'Reward': 610.1069552976322, 'Error': 38.066608268375276, 'Time': 0.0012385845184326172, 'Max V': 610.1069552976322, 'Mean V': 49.883799944069416, 'Iteration': 14}, {'State': None, 'Action': None, 'Reward': 647.4694911944815, 'Error': 37.30527610300774, 'Time': 0.0013229846954345703, 'Max V': 647.4694911944815, 'Mean V': 56.162375491380466, 'Iteration': 15}, {'State': None, 'Action': None, 'Reward': 684.0853489713323, 'Error': 36.55917058094765, 'Time': 0.0014083385467529297, 'Max V': 684.0853489713323, 'Mean V': 62.06462322629653, 'Iteration': 16}, {'State': None, 'Action': None, 'Reward': 719.9768421556316, 'Error': 35.827987169328736, 'Time': 0.0014939308166503906, 'Max V': 719.9768421556316, 'Mean V': 68.80215542521711, 'Iteration': 17}, {'State': None, 'Action': None, 'Reward': 755.1511405363946, 'Error': 35.11142742594214, 'Time': 0.0015778541564941406, 'Max V': 755.1511405363946, 'Mean V': 75.17832347778558, 'Iteration': 18}, {'State': None, 'Action': None, 'Reward': 789.6296748767525, 'Error': 34.40919887742328, 'Time': 0.0016632080078125, 'Max V': 789.6296748767525, 'Mean V': 82.32838487054457, 'Iteration': 19}, {'State': None, 'Action': None, 'Reward': 823.4193318849325, 'Error': 33.72101489987487, 'Time': 0.0017464160919189453, 'Max V': 823.4193318849325, 'Mean V': 89.1314491256654, 'Iteration': 20}, {'State': None, 'Action': None, 'Reward': 856.5406945002742, 'Error': 33.04659460187742, 'Time': 0.0018291473388671875, 'Max V': 856.5406945002742, 'Mean V': 96.65056625405495, 'Iteration': 21}, {'State': None, 'Action': None, 'Reward': 889.0003775434438, 'Error': 32.385662709839806, 'Time': 0.0019354820251464844, 'Max V': 889.0003775434438, 'Mean V': 103.83648041940559, 'Iteration': 22}, {'State': None, 'Action': None, 'Reward': 920.8181496872065, 'Error': 31.737949455643037, 'Time': 0.002020120620727539, 'Max V': 920.8181496872065, 'Mean V': 111.68397274011696, 'Iteration': 23}, {'State': None, 'Action': None, 'Reward': 952.0003646149753, 'Error': 31.103190466530265, 'Time': 0.0021016597747802734, 'Max V': 952.0003646149753, 'Mean V': 119.2115063096794, 'Iteration': 24}, {'State': None, 'Action': None, 'Reward': 982.5660089616225, 'Error': 30.481126657199525, 'Time': 0.0021848678588867188, 'Max V': 982.5660089616225, 'Mean V': 127.34933323387797, 'Iteration': 25}, {'State': None, 'Action': None, 'Reward': 1012.5211855982312, 'Error': 29.87150412405567, 'Time': 0.002267122268676758, 'Max V': 1012.5211855982312, 'Mean V': 135.17991761374327, 'Iteration': 26}, {'State': None, 'Action': None, 'Reward': 1041.8841300745312, 'Error': 29.2740740415746, 'Time': 0.002349376678466797, 'Max V': 1041.8841300745312, 'Mean V': 143.5725332800769, 'Iteration': 27}, {'State': None, 'Action': None, 'Reward': 1070.6607043656522, 'Error': 28.688592560743174, 'Time': 0.0024330615997314453, 'Max V': 1070.6607043656522, 'Mean V': 151.67011568420034, 'Iteration': 28}, {'State': None, 'Action': None, 'Reward': 1098.8684226635196, 'Error': 28.11482070952836, 'Time': 0.0025146007537841797, 'Max V': 1098.8684226635196, 'Mean V': 160.2843310926442, 'Iteration': 29}, {'State': None, 'Action': None, 'Reward': 1126.512915571313, 'Error': 27.552524295337783, 'Time': 0.0025954246520996094, 'Max V': 1126.512915571313, 'Mean V': 168.615235834495, 'Iteration': 30}, {'State': None, 'Action': None, 'Reward': 1153.6110044735995, 'Error': 27.00147380943099, 'Time': 0.002677440643310547, 'Max V': 1153.6110044735995, 'Mean V': 177.4200879858205, 'Iteration': 31}, {'State': None, 'Action': None, 'Reward': 1180.1680977487686, 'Error': 26.461444333242305, 'Time': 0.0027582645416259766, 'Max V': 1180.1680977487686, 'Mean V': 185.95288480931225, 'Iteration': 32}, {'State': None, 'Action': None, 'Reward': 1206.2003513941836, 'Error': 25.932215446577448, 'Time': 0.002870798110961914, 'Max V': 1206.2003513941836, 'Mean V': 194.9195125115538, 'Iteration': 33}, {'State': None, 'Action': None, 'Reward': 1231.7129603486787, 'Error': 25.413571137645924, 'Time': 0.002977609634399414, 'Max V': 1231.7129603486787, 'Mean V': 203.62489162128506, 'Iteration': 34}, {'State': None, 'Action': None, 'Reward': 1256.7214415570277, 'Error': 24.905299714893054, 'Time': 0.0030646324157714844, 'Max V': 1256.7214415570277, 'Mean V': 212.72641764041455, 'Iteration': 35}, {'State': None, 'Action': None, 'Reward': 1281.2307849561444, 'Error': 24.40719372059525, 'Time': 0.003148794174194336, 'Max V': 1281.2307849561444, 'Mean V': 221.57707110713702, 'Iteration': 36}, {'State': None, 'Action': None, 'Reward': 1305.2558937302701, 'Error': 23.919049846183384, 'Time': 0.0032312870025634766, 'Max V': 1305.2558937302701, 'Mean V': 230.7884903542631, 'Iteration': 37}, {'State': None, 'Action': None, 'Reward': 1328.8015609181925, 'Error': 23.440668849259758, 'Time': 0.0033140182495117188, 'Max V': 1328.8015609181925, 'Mean V': 239.7589995866549, 'Iteration': 38}, {'State': None, 'Action': None, 'Reward': 1351.8821002343998, 'Error': 22.971855472274605, 'Time': 0.003398418426513672, 'Max V': 1351.8821002343998, 'Mean V': 249.05707304848414, 'Iteration': 39}, {'State': None, 'Action': None, 'Reward': 1374.5021156027221, 'Error': 22.512418362829152, 'Time': 0.0034835338592529297, 'Max V': 1374.5021156027221, 'Mean V': 258.1238020367759, 'Iteration': 40}, {'State': None, 'Action': None, 'Reward': 1396.6753545970384, 'Error': 22.06216999557276, 'Time': 0.003568887710571289, 'Max V': 1396.6753545970384, 'Mean V': 267.4869561698331, 'Iteration': 41}, {'State': None, 'Action': None, 'Reward': 1418.4062395014562, 'Error': 21.620926595661174, 'Time': 0.003654956817626953, 'Max V': 1418.4062395014562, 'Mean V': 276.6279502206402, 'Iteration': 42}, {'State': None, 'Action': None, 'Reward': 1439.7079741548316, 'Error': 21.188508063747957, 'Time': 0.0037398338317871094, 'Max V': 1439.7079741548316, 'Mean V': 286.03618154287426, 'Iteration': 43}, {'State': None, 'Action': None, 'Reward': 1460.5848063810358, 'Error': 20.76473790247302, 'Time': 0.0038242340087890625, 'Max V': 1460.5848063810358, 'Mean V': 295.2310712377655, 'Iteration': 44}, {'State': None, 'Action': None, 'Reward': 1481.0494178024992, 'Error': 20.349443144423645, 'Time': 0.0039310455322265625, 'Max V': 1481.0494178024992, 'Mean V': 304.66585586369604, 'Iteration': 45}, {'State': None, 'Action': None, 'Reward': 1501.105888678304, 'Error': 19.94245428153508, 'Time': 0.00401759147644043, 'Max V': 1501.105888678304, 'Mean V': 313.89576598660005, 'Iteration': 46}, {'State': None, 'Action': None, 'Reward': 1520.766399081178, 'Error': 19.54360519590434, 'Time': 0.004102468490600586, 'Max V': 1520.766399081178, 'Mean V': 323.3399738641132, 'Iteration': 47}, {'State': None, 'Action': None, 'Reward': 1540.034868328064, 'Error': 19.152733091986313, 'Time': 0.004187822341918945, 'Max V': 1540.034868328064, 'Mean V': 332.5874370546607, 'Iteration': 48}, {'State': None, 'Action': None, 'Reward': 1558.9229947905699, 'Error': 18.769678430146502, 'Time': 0.004275083541870117, 'Max V': 1558.9229947905699, 'Mean V': 342.02525067296807, 'Iteration': 49}, {'State': None, 'Action': None, 'Reward': 1577.4345432041491, 'Error': 18.39428486154361, 'Time': 0.004358530044555664, 'Max V': 1577.4345432041491, 'Mean V': 351.2741255743135, 'Iteration': 50}, {'State': None, 'Action': None, 'Reward': 1595.5807493021211, 'Error': 18.026399164312892, 'Time': 0.004444599151611328, 'Max V': 1595.5807493021211, 'Mean V': 360.69096292346904, 'Iteration': 51}, {'State': None, 'Action': None, 'Reward': 1613.3652293474704, 'Error': 17.665871181026716, 'Time': 0.0045282840728759766, 'Max V': 1613.3652293474704, 'Mean V': 369.92635660405307, 'Iteration': 52}, {'State': None, 'Action': None, 'Reward': 1630.7987747434206, 'Error': 17.312553757406153, 'Time': 0.00461125373840332, 'Max V': 1630.7987747434206, 'Mean V': 379.30879817680466, 'Iteration': 53}, {'State': None, 'Action': None, 'Reward': 1647.8848591478372, 'Error': 16.966302682258018, 'Time': 0.0046956539154052734, 'Max V': 1647.8848591478372, 'Mean V': 388.51699261594035, 'Iteration': 54}, {'State': None, 'Action': None, 'Reward': 1664.6338472172824, 'Error': 16.626976628612894, 'Time': 0.004778146743774414, 'Max V': 1664.6338472172824, 'Mean V': 397.8575522661274, 'Iteration': 55}, {'State': None, 'Action': None, 'Reward': 1681.0490756397471, 'Error': 16.294437096040586, 'Time': 0.004869699478149414, 'Max V': 1681.0490756397471, 'Mean V': 407.02929368840756, 'Iteration': 56}, {'State': None, 'Action': None, 'Reward': 1697.1404992125008, 'Error': 15.968548354119772, 'Time': 0.0056040287017822266, 'Max V': 1697.1404992125008, 'Mean V': 416.31354343521343, 'Iteration': 57}, {'State': None, 'Action': None, 'Reward': 1712.9113230659857, 'Error': 15.649177387037447, 'Time': 0.0057277679443359375, 'Max V': 1712.9113230659857, 'Mean V': 425.433766361338, 'Iteration': 58}, {'State': None, 'Action': None, 'Reward': 1728.3711083570424, 'Error': 15.336193839296698, 'Time': 0.005835771560668945, 'Max V': 1728.3711083570424, 'Mean V': 434.64940396533905, 'Iteration': 59}, {'State': None, 'Action': None, 'Reward': 1743.5229338567958, 'Error': 15.029469962510845, 'Time': 0.005960226058959961, 'Max V': 1743.5229338567958, 'Mean V': 443.7075169801627, 'Iteration': 60}, {'State': None, 'Action': None, 'Reward': 1758.3759826584846, 'Error': 14.728880563260631, 'Time': 0.006050825119018555, 'Max V': 1758.3759826584846, 'Mean V': 452.84512730119445, 'Iteration': 61}, {'State': None, 'Action': None, 'Reward': 1772.9332121665238, 'Error': 14.434302951995402, 'Time': 0.006136417388916016, 'Max V': 1772.9332121665238, 'Mean V': 461.8314564084446, 'Iteration': 62}, {'State': None, 'Action': None, 'Reward': 1787.2034423707612, 'Error': 14.145616892955502, 'Time': 0.0062215328216552734, 'Max V': 1787.2034423707612, 'Mean V': 470.88247539191366, 'Iteration': 63}, {'State': None, 'Action': None, 'Reward': 1801.1895141040266, 'Error': 13.862704555096453, 'Time': 0.006306886672973633, 'Max V': 1801.1895141040266, 'Mean V': 479.7882080076369, 'Iteration': 64}, {'State': None, 'Action': None, 'Reward': 1814.899898620783, 'Error': 13.585450463994587, 'Time': 0.00639653205871582, 'Max V': 1814.899898620783, 'Mean V': 488.7448700865387, 'Iteration': 65}, {'State': None, 'Action': None, 'Reward': 1828.337324787732, 'Error': 13.31374145471473, 'Time': 0.006487131118774414, 'Max V': 1828.337324787732, 'Mean V': 497.56200202873174, 'Iteration': 66}, {'State': None, 'Action': None, 'Reward': 1841.5099289232028, 'Error': 13.047466625620366, 'Time': 0.00657200813293457, 'Max V': 1841.5099289232028, 'Mean V': 506.4172903559224, 'Iteration': 67}, {'State': None, 'Action': None, 'Reward': 1854.4203323510628, 'Error': 12.786517293108115, 'Time': 0.006658792495727539, 'Max V': 1854.4203323510628, 'Mean V': 515.1385756808945, 'Iteration': 68}, {'State': None, 'Action': None, 'Reward': 1867.0763497065197, 'Error': 12.530786947245947, 'Time': 0.0067446231842041016, 'Max V': 1867.0763497065197, 'Mean V': 523.8861750499618, 'Iteration': 69}, {'State': None, 'Action': None, 'Reward': 1879.4804990189493, 'Error': 12.28017120830106, 'Time': 0.006829977035522461, 'Max V': 1879.4804990189493, 'Mean V': 532.5050785931115, 'Iteration': 70}, {'State': None, 'Action': None, 'Reward': 1891.64028596884, 'Error': 12.034567784135078, 'Time': 0.0069386959075927734, 'Max V': 1891.64028596884, 'Mean V': 541.1393309129675, 'Iteration': 71}, {'State': None, 'Action': None, 'Reward': 1903.5581293713908, 'Error': 11.793876428452375, 'Time': 0.007049560546875, 'Max V': 1903.5581293713908, 'Mean V': 549.6499833984683, 'Iteration': 72}, {'State': None, 'Action': None, 'Reward': 1915.24123817693, 'Error': 11.557998899883376, 'Time': 0.007143497467041016, 'Max V': 1915.24123817693, 'Mean V': 558.1658455932537, 'Iteration': 73}, {'State': None, 'Action': None, 'Reward': 1926.691935905415, 'Error': 11.326838921885777, 'Time': 0.0072290897369384766, 'Max V': 1926.691935905415, 'Mean V': 566.563001183628, 'Iteration': 74}, {'State': None, 'Action': None, 'Reward': 1937.9171465176837, 'Error': 11.100302143448225, 'Time': 0.007312774658203125, 'Max V': 1937.9171465176837, 'Mean V': 574.9560053956818, 'Iteration': 75}, {'State': None, 'Action': None, 'Reward': 1948.9191020023952, 'Error': 10.878296100579018, 'Time': 0.007398366928100586, 'Max V': 1948.9191020023952, 'Mean V': 583.2350015584383, 'Iteration': 76}, {'State': None, 'Action': None, 'Reward': 1959.7044526068296, 'Error': 10.66073017856744, 'Time': 0.0074825286865234375, 'Max V': 1959.7044526068296, 'Mean V': 591.5012175379677, 'Iteration': 77}, {'State': None, 'Action': None, 'Reward': 1970.275342403434, 'Error': 10.447515574996068, 'Time': 0.007568359375, 'Max V': 1970.275342403434, 'Mean V': 599.6579371123723, 'Iteration': 78}, {'State': None, 'Action': None, 'Reward': 1980.6381587555295, 'Error': 10.238565263496135, 'Time': 0.0076525211334228516, 'Max V': 1980.6381587555295, 'Mean V': 607.7939366830568, 'Iteration': 79}, {'State': None, 'Action': None, 'Reward': 1990.7949612914692, 'Error': 10.03379395822622, 'Time': 0.007735013961791992, 'Max V': 1990.7949612914692, 'Mean V': 615.8247720357417, 'Iteration': 80}, {'State': None, 'Action': None, 'Reward': 2000.7518848915497, 'Error': 9.833118079061627, 'Time': 0.00782155990600586, 'Max V': 2000.7518848915497, 'Mean V': 623.8333316617852, 'Iteration': 81}, {'State': None, 'Action': None, 'Reward': 2010.5109080748387, 'Error': 9.636455717480349, 'Time': 0.007947683334350586, 'Max V': 2010.5109080748387, 'Mean V': 631.739164342839, 'Iteration': 82}, {'State': None, 'Action': None, 'Reward': 2020.0779232278508, 'Error': 9.443726603130798, 'Time': 0.008038043975830078, 'Max V': 2020.0779232278508, 'Mean V': 639.6121492532875, 'Iteration': 83}, {'State': None, 'Action': None, 'Reward': 2029.4548309633014, 'Error': 9.254852071068196, 'Time': 0.00812220573425293, 'Max V': 2029.4548309633014, 'Mean V': 647.3861185287969, 'Iteration': 84}, {'State': None, 'Action': None, 'Reward': 2038.6472907677721, 'Error': 9.069755029646839, 'Time': 0.008206367492675781, 'Max V': 2038.6472907677721, 'Mean V': 655.1210564894268, 'Iteration': 85}, {'State': None, 'Action': None, 'Reward': 2047.6571284239017, 'Error': 8.888359929053959, 'Time': 0.00829005241394043, 'Max V': 2047.6571284239017, 'Mean V': 662.7608938653772, 'Iteration': 86}, {'State': None, 'Action': None, 'Reward': 2056.4897797324475, 'Error': 8.710592730472808, 'Time': 0.008380651473999023, 'Max V': 2056.4897797324475, 'Mean V': 670.3560567740917, 'Iteration': 87}, {'State': None, 'Action': None, 'Reward': 2065.146998600603, 'Error': 8.536380875863365, 'Time': 0.008466005325317383, 'Max V': 2065.146998600603, 'Mean V': 677.8598785019689, 'Iteration': 88}, {'State': None, 'Action': None, 'Reward': 2073.634005992708, 'Error': 8.365653258346107, 'Time': 0.008548974990844727, 'Max V': 2073.634005992708, 'Mean V': 685.3138899169402, 'Iteration': 89}, {'State': None, 'Action': None, 'Reward': 2081.9524867783084, 'Error': 8.198340193179213, 'Time': 0.00863504409790039, 'Max V': 2081.9524867783084, 'Mean V': 692.6801701131216, 'Iteration': 90}, {'State': None, 'Action': None, 'Reward': 2090.1074555844634, 'Error': 8.034373389315817, 'Time': 0.008719205856323242, 'Max V': 2090.1074555844634, 'Mean V': 699.9919801447728, 'Iteration': 91}, {'State': None, 'Action': None, 'Reward': 2098.1005309686634, 'Error': 7.873685921529411, 'Time': 0.008801460266113281, 'Max V': 2098.1005309686634, 'Mean V': 707.2195254348446, 'Iteration': 92}, {'State': None, 'Action': None, 'Reward': 2105.936529383426, 'Error': 7.7162122030988805, 'Time': 0.008906841278076172, 'Max V': 2105.936529383426, 'Mean V': 714.3883870742571, 'Iteration': 93}, {'State': None, 'Action': None, 'Reward': 2113.617005692011, 'Error': 7.561887959037005, 'Time': 0.008997678756713867, 'Max V': 2113.617005692011, 'Mean V': 721.476312683654, 'Iteration': 94}, {'State': None, 'Action': None, 'Reward': 2121.1465860120525, 'Error': 7.410650199856207, 'Time': 0.009082794189453125, 'Max V': 2121.1465860120525, 'Mean V': 728.5017594930289, 'Iteration': 95}, {'State': None, 'Action': None, 'Reward': 2128.526764026895, 'Error': 7.262437195859089, 'Time': 0.009169578552246094, 'Max V': 2128.526764026895, 'Mean V': 735.4494667092172, 'Iteration': 96}, {'State': None, 'Action': None, 'Reward': 2135.76198304866, 'Error': 7.117188451942109, 'Time': 0.009253501892089844, 'Max V': 2135.76198304866, 'Mean V': 742.3312918036416, 'Iteration': 97}, {'State': None, 'Action': None, 'Reward': 2142.8536779956876, 'Error': 6.974844682903228, 'Time': 0.009341001510620117, 'Max V': 2142.8536779956876, 'Mean V': 749.1425981367461, 'Iteration': 98}, {'State': None, 'Action': None, 'Reward': 2149.8061166059483, 'Error': 6.8353477892451835, 'Time': 0.009424924850463867, 'Max V': 2149.8061166059483, 'Mean V': 755.8865432510169, 'Iteration': 99}, {'State': None, 'Action': None, 'Reward': 2156.6206773522135, 'Error': 6.698640833460271, 'Time': 0.009509801864624023, 'Max V': 2156.6206773522135, 'Mean V': 762.5572845908812, 'Iteration': 100}, {'State': None, 'Action': None, 'Reward': 2163.301459343456, 'Error': 6.564668016791064, 'Time': 0.009648323059082031, 'Max V': 2163.301459343456, 'Mean V': 769.1576687914214, 'Iteration': 101}, {'State': None, 'Action': None, 'Reward': 2169.849786834618, 'Error': 1.366818997454665, 'Time': 0.00973367691040039, 'Max V': 2169.849786834618, 'Mean V': 775.6921900300844, 'Iteration': 102}, {'State': None, 'Action': None, 'Reward': 2176.3189628608943, 'Error': 1.8189894035458565e-12, 'Time': 0.009816169738769531, 'Max V': 2176.3189628608943, 'Mean V': 782.1613660563604, 'Iteration': 103}]\n"
          ]
        }
      ]
    },
    {
      "cell_type": "code",
      "source": [
        "P, R = mdptoolbox.example.forest(S=100, p=1 / (10 * 100), r1=2 * 100, r2=1)\n",
        "pi = mdp.ValueIteration(P, R, 0.99)\n",
        "pi.run() # result is (0, 0, 0)\n",
        "np.array(pi.policy).reshape((10, 10))"
      ],
      "metadata": {
        "colab": {
          "base_uri": "https://localhost:8080/"
        },
        "id": "wy2EuCqDUcma",
        "outputId": "82bacdfe-f6b3-43a6-fdf5-b391fe4e8cc0"
      },
      "execution_count": 233,
      "outputs": [
        {
          "output_type": "execute_result",
          "data": {
            "text/plain": [
              "array([[0, 0, 0, 0, 0, 0, 0, 0, 0, 0],\n",
              "       [0, 0, 0, 0, 0, 0, 0, 0, 0, 0],\n",
              "       [0, 0, 0, 0, 0, 0, 0, 0, 0, 0],\n",
              "       [0, 0, 0, 0, 0, 0, 0, 0, 0, 0],\n",
              "       [0, 0, 0, 0, 0, 0, 0, 0, 0, 0],\n",
              "       [0, 0, 0, 0, 0, 0, 0, 0, 0, 0],\n",
              "       [0, 0, 0, 0, 0, 0, 0, 0, 0, 0],\n",
              "       [0, 0, 0, 0, 0, 0, 0, 0, 0, 0],\n",
              "       [0, 0, 0, 0, 0, 0, 0, 0, 0, 0],\n",
              "       [0, 0, 0, 0, 0, 0, 0, 0, 0, 0]])"
            ]
          },
          "metadata": {},
          "execution_count": 233
        }
      ]
    },
    {
      "cell_type": "code",
      "source": [
        "pi_array = np.array(pi.policy).reshape((10, 10))\n",
        "\n",
        "legend_elements = [\n",
        "        Patch(facecolor=\"black\", edgecolor=\"black\", label=\"Wait\"),\n",
        "        Patch(facecolor=\"white\", edgecolor=\"black\", label=\"Cut\"),\n",
        "    ]\n",
        "\n",
        "sns.heatmap(pi_array, cmap=[\"black\", \"white\"], cbar=False)\n",
        "plt.legend(handles=legend_elements, bbox_to_anchor=(1.3, 1))\n",
        "plt.title(\"Foresting Policy, Value Iteration\")\n",
        "plt.savefig(\"vi_forest_policy.png\")\n"
      ],
      "metadata": {
        "colab": {
          "base_uri": "https://localhost:8080/",
          "height": 452
        },
        "id": "04t85OwHjPeN",
        "outputId": "f6a6b147-2746-490a-b702-697c5c9751cf"
      },
      "execution_count": 234,
      "outputs": [
        {
          "output_type": "display_data",
          "data": {
            "text/plain": [
              "<Figure size 640x480 with 1 Axes>"
            ],
            "image/png": "[encoded data removed]"
          },
          "metadata": {}
        }
      ]
    },
    {
      "cell_type": "code",
      "source": [
        "vi_iter_stats = []\n",
        "\n",
        "for i in range(4, 100):\n",
        "\n",
        "  P, R = mdptoolbox.example.forest(S=i, p=1 / (10 * i), r1=1, r2=1)\n",
        "  vi = mdp.ValueIteration(P, R, 0.96)\n",
        "  vi.run() # result is (0, 0, 0)\n",
        "\n",
        "  run_stats = vi.run_stats\n",
        "  vi_iter_stats.append(len(run_stats))\n",
        "# significant note: when you're in the last state, you can stay there until a fire breaks out\n",
        "# topics to explore: effect of size; effect of p vs. decay; effect of r1 and r2;\n",
        "# why does value iteration take so much longer"
      ],
      "metadata": {
        "id": "Q4B-ABaOpoGn"
      },
      "execution_count": 285,
      "outputs": []
    },
    {
      "cell_type": "code",
      "source": [
        "iterations = [i for i in range(4, 100)]\n",
        "plt.plot(iterations, pi_iter_stats, label=\"Policy Iteration\")\n",
        "plt.plot(iterations, vi_iter_stats, label=\"Value Iteration\")\n",
        "plt.xlabel(\"State Size\")\n",
        "plt.ylabel(\"Iterations to Converge\")\n",
        "plt.legend()\n",
        "plt.title(\"Value and Policy Iteration, Forest Problem\")\n",
        "plt.savefig(\"pi_vi_forest_2.png\")"
      ],
      "metadata": {
        "colab": {
          "base_uri": "https://localhost:8080/",
          "height": 472
        },
        "id": "2VN6pz-OYT_Q",
        "outputId": "8b746af1-7209-4952-bfdc-70524e13d522"
      },
      "execution_count": 289,
      "outputs": [
        {
          "output_type": "display_data",
          "data": {
            "text/plain": [
              "<Figure size 640x480 with 1 Axes>"
            ],
            "image/png": "[encoded data removed]"
          },
          "metadata": {}
        }
      ]
    },
    {
      "cell_type": "code",
      "source": [],
      "metadata": {
        "id": "zeDOuemWTn5h"
      },
      "execution_count": null,
      "outputs": []
    },
    {
      "cell_type": "code",
      "source": [
        "iterations = [i for i in range(4, 100)]\n",
        "plt.plot(iterations, pi_runtimes, label=\"Policy Iteration\")\n",
        "plt.plot(iterations, vi_runtimes, label=\"Value Iteration\")\n",
        "plt.xlabel(\"State Size\")\n",
        "plt.ylabel(\"Time to Converge\")\n",
        "plt.legend()\n",
        "plt.title(\"Value and Policy Iteration, Forest Problem\")\n",
        "plt.savefig(\"pi_vi_forest_runtime_2.png\")"
      ],
      "metadata": {
        "colab": {
          "base_uri": "https://localhost:8080/",
          "height": 472
        },
        "id": "ujc7nAZatixX",
        "outputId": "a24c1f98-1fbe-434b-c58f-79bd582aff14"
      },
      "execution_count": 290,
      "outputs": [
        {
          "output_type": "display_data",
          "data": {
            "text/plain": [
              "<Figure size 640x480 with 1 Axes>"
            ],
            "image/png": "[encoded data removed]"
          },
          "metadata": {}
        }
      ]
    },
    {
      "cell_type": "code",
      "source": [
        "rewards = [run_stats[i]['M'] for i in range(len(run_stats))]\n",
        "iterations = [run_stats[i]['Mean V'] for i in range(len(run_stats))]\n",
        "\n",
        "import matplotlib.pyplot as plt\n",
        "plt.plot(iterations, rewards)"
      ],
      "metadata": {
        "colab": {
          "base_uri": "https://localhost:8080/",
          "height": 447
        },
        "id": "UN9FuyG1RarT",
        "outputId": "c6e63cb1-0f09-4fc6-e633-4d53129c9517"
      },
      "execution_count": null,
      "outputs": [
        {
          "output_type": "execute_result",
          "data": {
            "text/plain": [
              "[<matplotlib.lines.Line2D at 0x7ad2bce08a90>]"
            ]
          },
          "metadata": {},
          "execution_count": 46
        },
        {
          "output_type": "display_data",
          "data": {
            "text/plain": [
              "<Figure size 640x480 with 1 Axes>"
            ],
            "image/png": "[encoded data removed]"
          },
          "metadata": {}
        }
      ]
    },
    {
      "cell_type": "code",
      "source": [
        "pi.run_stats"
      ],
      "metadata": {
        "id": "Ma3bEkMYz_4y",
        "colab": {
          "base_uri": "https://localhost:8080/"
        },
        "outputId": "9db4788f-5048-49d1-b19d-490404763129"
      },
      "execution_count": null,
      "outputs": [
        {
          "output_type": "execute_result",
          "data": {
            "text/plain": [
              "[{'State': None,\n",
              "  'Action': None,\n",
              "  'Reward': 1010.4223451268871,\n",
              "  'Error': 947.7275132975187,\n",
              "  'Time': 0.0016646385192871094,\n",
              "  'Max V': 1010.4223451268871,\n",
              "  'Mean V': 22.666979808939086,\n",
              "  'Iteration': 1},\n",
              " {'State': None,\n",
              "  'Action': None,\n",
              "  'Reward': 1010.4223451268871,\n",
              "  'Error': 900.2075132975187,\n",
              "  'Time': 0.003905057907104492,\n",
              "  'Max V': 1010.4223451268871,\n",
              "  'Mean V': 32.14425494191428,\n",
              "  'Iteration': 2},\n",
              " {'State': None,\n",
              "  'Action': None,\n",
              "  'Reward': 1010.4223451268871,\n",
              "  'Error': 855.0445052975189,\n",
              "  'Time': 0.008458614349365234,\n",
              "  'Max V': 1010.4223451268871,\n",
              "  'Mean V': 41.14633007488946,\n",
              "  'Iteration': 3},\n",
              " {'State': None,\n",
              "  'Action': None,\n",
              "  'Reward': 1010.4223451268871,\n",
              "  'Error': 812.1215824943188,\n",
              "  'Time': 0.01052403450012207,\n",
              "  'Max V': 1010.4223451268871,\n",
              "  'Mean V': 49.69677512786465,\n",
              "  'Iteration': 4},\n",
              " {'State': None,\n",
              "  'Action': None,\n",
              "  'Reward': 1010.4223451268871,\n",
              "  'Error': 771.3276366621576,\n",
              "  'Time': 0.012117862701416016,\n",
              "  'Max V': 1010.4223451268871,\n",
              "  'Mean V': 57.81799095280784,\n",
              "  'Iteration': 5},\n",
              " {'State': None,\n",
              "  'Action': None,\n",
              "  'Reward': 1010.4223451268871,\n",
              "  'Error': 732.5570705432715,\n",
              "  'Time': 0.014120101928710938,\n",
              "  'Max V': 1010.4223451268871,\n",
              "  'Mean V': 65.53126731942942,\n",
              "  'Iteration': 6},\n",
              " {'State': None,\n",
              "  'Action': None,\n",
              "  'Reward': 1010.4223451268871,\n",
              "  'Error': 695.7095245038821,\n",
              "  'Time': 0.016373634338378906,\n",
              "  'Max V': 1010.4223451268871,\n",
              "  'Mean V': 72.85683802486213,\n",
              "  'Iteration': 7},\n",
              " {'State': None,\n",
              "  'Action': None,\n",
              "  'Reward': 1010.4223451268871,\n",
              "  'Error': 660.6896167480465,\n",
              "  'Time': 0.017942428588867188,\n",
              "  'Max V': 1010.4223451268871,\n",
              "  'Mean V': 79.81393326990096,\n",
              "  'Iteration': 8},\n",
              " {'State': None,\n",
              "  'Action': None,\n",
              "  'Reward': 1010.4223451268871,\n",
              "  'Error': 627.4066964169004,\n",
              "  'Time': 0.019778966903686523,\n",
              "  'Max V': 1010.4223451268871,\n",
              "  'Mean V': 86.42082943738141,\n",
              "  'Iteration': 9},\n",
              " {'State': None,\n",
              "  'Action': None,\n",
              "  'Reward': 1010.4223451268871,\n",
              "  'Error': 595.7746089341791,\n",
              "  'Time': 0.02256631851196289,\n",
              "  'Max V': 1010.4223451268871,\n",
              "  'Mean V': 92.6948964015504,\n",
              "  'Iteration': 10},\n",
              " {'State': None,\n",
              "  'Action': None,\n",
              "  'Reward': 1010.4223451268871,\n",
              "  'Error': 565.7114729906008,\n",
              "  'Time': 0.02435302734375,\n",
              "  'Max V': 1010.4223451268871,\n",
              "  'Mean V': 98.65264249089219,\n",
              "  'Iteration': 11},\n",
              " {'State': None,\n",
              "  'Action': None,\n",
              "  'Reward': 1010.4223451268871,\n",
              "  'Error': 537.1394685898239,\n",
              "  'Time': 0.026327848434448242,\n",
              "  'Max V': 1010.4223451268871,\n",
              "  'Mean V': 104.3097572207982,\n",
              "  'Iteration': 12},\n",
              " {'State': None,\n",
              "  'Action': None,\n",
              "  'Reward': 1010.4223451268871,\n",
              "  'Error': 509.9846356073256,\n",
              "  'Time': 0.027881145477294922,\n",
              "  'Max V': 1010.4223451268871,\n",
              "  'Mean V': 109.68115190669646,\n",
              "  'Iteration': 13},\n",
              " {'State': None,\n",
              "  'Action': None,\n",
              "  'Reward': 1010.4223451268871,\n",
              "  'Error': 484.17668234075927,\n",
              "  'Time': 0.029475688934326172,\n",
              "  'Max V': 1010.4223451268871,\n",
              "  'Mean V': 114.7809982627697,\n",
              "  'Iteration': 14},\n",
              " {'State': None,\n",
              "  'Action': None,\n",
              "  'Reward': 1010.4223451268871,\n",
              "  'Error': 459.64880355621455,\n",
              "  'Time': 0.031008243560791016,\n",
              "  'Max V': 1010.4223451268871,\n",
              "  'Mean V': 119.6227650861773,\n",
              "  'Iteration': 15},\n",
              " {'State': None,\n",
              "  'Action': None,\n",
              "  'Reward': 1010.4223451268871,\n",
              "  'Error': 436.33750755938325,\n",
              "  'Time': 0.03253626823425293,\n",
              "  'Max V': 1010.4223451268871,\n",
              "  'Mean V': 124.21925312173944,\n",
              "  'Iteration': 16},\n",
              " {'State': None,\n",
              "  'Action': None,\n",
              "  'Reward': 1010.4223451268871,\n",
              "  'Error': 414.1824518439948,\n",
              "  'Time': 0.03405165672302246,\n",
              "  'Max V': 1010.4223451268871,\n",
              "  'Mean V': 128.58262819733326,\n",
              "  'Iteration': 17},\n",
              " {'State': None,\n",
              "  'Action': None,\n",
              "  'Reward': 1010.4223451268871,\n",
              "  'Error': 393.12628689208964,\n",
              "  'Time': 0.035574913024902344,\n",
              "  'Max V': 1010.4223451268871,\n",
              "  'Mean V': 132.7244527157732,\n",
              "  'Iteration': 18},\n",
              " {'State': None,\n",
              "  'Action': None,\n",
              "  'Reward': 1010.4223451268871,\n",
              "  'Error': 373.11450772179904,\n",
              "  'Time': 0.037127017974853516,\n",
              "  'Max V': 1010.4223451268871,\n",
              "  'Mean V': 136.6557155846941,\n",
              "  'Iteration': 19},\n",
              " {'State': None,\n",
              "  'Action': None,\n",
              "  'Reward': 1010.4223451268871,\n",
              "  'Error': 354.0953127983548,\n",
              "  'Time': 0.03884243965148926,\n",
              "  'Max V': 1010.4223451268871,\n",
              "  'Mean V': 140.3868606619121,\n",
              "  'Iteration': 20},\n",
              " {'State': None,\n",
              "  'Action': None,\n",
              "  'Reward': 1010.4223451268871,\n",
              "  'Error': 336.01946994311334,\n",
              "  'Time': 0.04058361053466797,\n",
              "  'Max V': 1010.4223451268871,\n",
              "  'Mean V': 143.92781378989565,\n",
              "  'Iteration': 21},\n",
              " {'State': None,\n",
              "  'Action': None,\n",
              "  'Reward': 1010.4223451268871,\n",
              "  'Error': 318.8401888934919,\n",
              "  'Time': 0.042096614837646484,\n",
              "  'Max V': 1010.4223451268871,\n",
              "  'Mean V': 147.28800848932676,\n",
              "  'Iteration': 22},\n",
              " {'State': None,\n",
              "  'Action': None,\n",
              "  'Reward': 1010.4223451268871,\n",
              "  'Error': 302.51300018393164,\n",
              "  'Time': 0.043639183044433594,\n",
              "  'Max V': 1010.4223451268871,\n",
              "  'Mean V': 150.4764103782617,\n",
              "  'Iteration': 23},\n",
              " {'State': None,\n",
              "  'Action': None,\n",
              "  'Reward': 1010.4223451268871,\n",
              "  'Error': 286.99564003436564,\n",
              "  'Time': 0.04517674446105957,\n",
              "  'Max V': 1010.4223451268871,\n",
              "  'Mean V': 153.501540380101,\n",
              "  'Iteration': 24},\n",
              " {'State': None,\n",
              "  'Action': None,\n",
              "  'Reward': 1010.4223451268871,\n",
              "  'Error': 272.2479409482181,\n",
              "  'Time': 0.04669785499572754,\n",
              "  'Max V': 1010.4223451268871,\n",
              "  'Mean V': 156.3714967804447,\n",
              "  'Iteration': 25},\n",
              " {'State': None,\n",
              "  'Action': None,\n",
              "  'Reward': 1010.4223451268871,\n",
              "  'Error': 258.23172773674344,\n",
              "  'Time': 0.04826521873474121,\n",
              "  'Max V': 1010.4223451268871,\n",
              "  'Mean V': 159.09397618992685,\n",
              "  'Iteration': 26},\n",
              " {'State': None,\n",
              "  'Action': None,\n",
              "  'Reward': 1010.4223451268871,\n",
              "  'Error': 244.91071870055796,\n",
              "  'Time': 0.050139427185058594,\n",
              "  'Max V': 1010.4223451268871,\n",
              "  'Mean V': 161.6762934672943,\n",
              "  'Iteration': 27},\n",
              " {'State': None,\n",
              "  'Action': None,\n",
              "  'Reward': 1010.4223451268871,\n",
              "  'Error': 232.2504317125673,\n",
              "  'Time': 0.05170178413391113,\n",
              "  'Max V': 1010.4223451268871,\n",
              "  'Mean V': 164.12540065429988,\n",
              "  'Iteration': 28},\n",
              " {'State': None,\n",
              "  'Action': None,\n",
              "  'Reward': 1010.4223451268871,\n",
              "  'Error': 220.21809495918095,\n",
              "  'Time': 0.05328536033630371,\n",
              "  'Max V': 1010.4223451268871,\n",
              "  'Mean V': 166.44790497142557,\n",
              "  'Iteration': 29},\n",
              " {'State': None,\n",
              "  'Action': None,\n",
              "  'Reward': 1010.4223451268871,\n",
              "  'Error': 208.78256210876256,\n",
              "  'Time': 0.054810523986816406,\n",
              "  'Max V': 1010.4223451268871,\n",
              "  'Mean V': 168.6500859210174,\n",
              "  'Iteration': 30},\n",
              " {'State': None,\n",
              "  'Action': None,\n",
              "  'Reward': 1010.4223451268871,\n",
              "  'Error': 197.91423168772494,\n",
              "  'Time': 0.05637240409851074,\n",
              "  'Max V': 1010.4223451268871,\n",
              "  'Mean V': 170.737911542105,\n",
              "  'Iteration': 31},\n",
              " {'State': None,\n",
              "  'Action': None,\n",
              "  'Reward': 1010.4223451268871,\n",
              "  'Error': 187.58497045557078,\n",
              "  'Time': 0.057881832122802734,\n",
              "  'Max V': 1010.4223451268871,\n",
              "  'Mean V': 172.71705385898224,\n",
              "  'Iteration': 32},\n",
              " {'State': None,\n",
              "  'Action': None,\n",
              "  'Reward': 1010.4223451268871,\n",
              "  'Error': 177.76804058053148,\n",
              "  'Time': 0.05942654609680176,\n",
              "  'Max V': 1010.4223451268871,\n",
              "  'Mean V': 174.59290356353796,\n",
              "  'Iteration': 33},\n",
              " {'State': None,\n",
              "  'Action': None,\n",
              "  'Reward': 1010.4223451268871,\n",
              "  'Error': 168.4380304272941,\n",
              "  'Time': 0.06093311309814453,\n",
              "  'Max V': 1010.4223451268871,\n",
              "  'Mean V': 176.37058396934327,\n",
              "  'Iteration': 34},\n",
              " {'State': None,\n",
              "  'Action': None,\n",
              "  'Reward': 1010.4223451268871,\n",
              "  'Error': 159.5707887776573,\n",
              "  'Time': 0.062453508377075195,\n",
              "  'Max V': 1010.4223451268871,\n",
              "  'Mean V': 178.0549642736162,\n",
              "  'Iteration': 35},\n",
              " {'State': None,\n",
              "  'Action': None,\n",
              "  'Reward': 1010.4223451268871,\n",
              "  'Error': 151.14336231384254,\n",
              "  'Time': 0.06398868560791016,\n",
              "  'Max V': 1010.4223451268871,\n",
              "  'Mean V': 179.6506721613928,\n",
              "  'Iteration': 36},\n",
              " {'State': None,\n",
              "  'Action': None,\n",
              "  'Reward': 1010.4223451268871,\n",
              "  'Error': 143.13393620263292,\n",
              "  'Time': 0.06551170349121094,\n",
              "  'Max V': 1010.4223451268871,\n",
              "  'Mean V': 181.16210578453124,\n",
              "  'Iteration': 37},\n",
              " {'State': None,\n",
              "  'Action': None,\n",
              "  'Reward': 1010.4223451268871,\n",
              "  'Error': 135.52177762653935,\n",
              "  'Time': 0.06702637672424316,\n",
              "  'Max V': 1010.4223451268871,\n",
              "  'Mean V': 182.59344514655754,\n",
              "  'Iteration': 38},\n",
              " {'State': None,\n",
              "  'Action': None,\n",
              "  'Reward': 1010.4223451268871,\n",
              "  'Error': 128.28718211581995,\n",
              "  'Time': 0.06882834434509277,\n",
              "  'Max V': 1010.4223451268871,\n",
              "  'Mean V': 183.9486629228229,\n",
              "  'Iteration': 39},\n",
              " {'State': None,\n",
              "  'Action': None,\n",
              "  'Reward': 1010.4223451268871,\n",
              "  'Error': 121.41142254243229,\n",
              "  'Time': 0.07036542892456055,\n",
              "  'Max V': 1010.4223451268871,\n",
              "  'Mean V': 185.23153474398114,\n",
              "  'Iteration': 40},\n",
              " {'State': None,\n",
              "  'Action': None,\n",
              "  'Reward': 1010.4223451268871,\n",
              "  'Error': 114.87670064388465,\n",
              "  'Time': 0.07187891006469727,\n",
              "  'Max V': 1010.4223451268871,\n",
              "  'Mean V': 186.44564896940545,\n",
              "  'Iteration': 41},\n",
              " {'State': None,\n",
              "  'Action': None,\n",
              "  'Reward': 1010.4223451268871,\n",
              "  'Error': 108.66610095150497,\n",
              "  'Time': 0.07339024543762207,\n",
              "  'Max V': 1010.4223451268871,\n",
              "  'Mean V': 187.5944159758443,\n",
              "  'Iteration': 42},\n",
              " {'State': None,\n",
              "  'Action': None,\n",
              "  'Reward': 1010.4223451268871,\n",
              "  'Error': 102.76354700386733,\n",
              "  'Time': 0.07488775253295898,\n",
              "  'Max V': 1010.4223451268871,\n",
              "  'Mean V': 188.68107698535937,\n",
              "  'Iteration': 43},\n",
              " {'State': None,\n",
              "  'Action': None,\n",
              "  'Reward': 1010.4223451268871,\n",
              "  'Error': 97.15375973203251,\n",
              "  'Time': 0.07639312744140625,\n",
              "  'Max V': 1010.4223451268871,\n",
              "  'Mean V': 189.70871245539803,\n",
              "  'Iteration': 44},\n",
              " {'State': None,\n",
              "  'Action': None,\n",
              "  'Reward': 1010.4223451268871,\n",
              "  'Error': 91.8222179088807,\n",
              "  'Time': 0.0857076644897461,\n",
              "  'Max V': 1010.4223451268871,\n",
              "  'Mean V': 190.68025005271838,\n",
              "  'Iteration': 45},\n",
              " {'State': None,\n",
              "  'Action': None,\n",
              "  'Reward': 1010.4223451268871,\n",
              "  'Error': 86.75512056015722,\n",
              "  'Time': 0.08776736259460449,\n",
              "  'Max V': 1010.4223451268871,\n",
              "  'Mean V': 191.59847223180716,\n",
              "  'Iteration': 46},\n",
              " {'State': None,\n",
              "  'Action': None,\n",
              "  'Reward': 1010.4223451268871,\n",
              "  'Error': 81.93935123993043,\n",
              "  'Time': 0.09452390670776367,\n",
              "  'Max V': 1010.4223451268871,\n",
              "  'Mean V': 192.46602343740872,\n",
              "  'Iteration': 47},\n",
              " {'State': None,\n",
              "  'Action': None,\n",
              "  'Reward': 1010.4223451268871,\n",
              "  'Error': 77.36244407798688,\n",
              "  'Time': 0.09658479690551758,\n",
              "  'Max V': 1010.4223451268871,\n",
              "  'Mean V': 193.28541694980805,\n",
              "  'Iteration': 48},\n",
              " {'State': None,\n",
              "  'Action': None,\n",
              "  'Reward': 1010.4223451268871,\n",
              "  'Error': 73.01255151127575,\n",
              "  'Time': 0.09827685356140137,\n",
              "  'Max V': 1010.4223451268871,\n",
              "  'Mean V': 194.0590413905879,\n",
              "  'Iteration': 49},\n",
              " {'State': None,\n",
              "  'Action': None,\n",
              "  'Reward': 1010.4223451268871,\n",
              "  'Error': 68.87841361587346,\n",
              "  'Time': 0.09985017776489258,\n",
              "  'Max V': 1010.4223451268871,\n",
              "  'Mean V': 194.78916690570068,\n",
              "  'Iteration': 50},\n",
              " {'State': None,\n",
              "  'Action': None,\n",
              "  'Reward': 1010.4223451268871,\n",
              "  'Error': 64.94932896008316,\n",
              "  'Time': 0.10138177871704102,\n",
              "  'Max V': 1010.4223451268871,\n",
              "  'Mean V': 195.47795104185943,\n",
              "  'Iteration': 51},\n",
              " {'State': None,\n",
              "  'Action': None,\n",
              "  'Reward': 1010.4223451268871,\n",
              "  'Error': 61.21512690322003,\n",
              "  'Time': 0.10290265083312988,\n",
              "  'Max V': 1010.4223451268871,\n",
              "  'Mean V': 196.12744433146025,\n",
              "  'Iteration': 52},\n",
              " {'State': None,\n",
              "  'Action': None,\n",
              "  'Reward': 1010.4223451268871,\n",
              "  'Error': 57.666141268377324,\n",
              "  'Time': 0.10446882247924805,\n",
              "  'Max V': 1010.4223451268871,\n",
              "  'Mean V': 196.73959560049244,\n",
              "  'Iteration': 53},\n",
              " {'State': None,\n",
              "  'Action': None,\n",
              "  'Reward': 1010.4223451268871,\n",
              "  'Error': 54.2931853210228,\n",
              "  'Time': 0.10598468780517578,\n",
              "  'Max V': 1010.4223451268871,\n",
              "  'Mean V': 197.31625701317623,\n",
              "  'Iteration': 54},\n",
              " {'State': None,\n",
              "  'Action': None,\n",
              "  'Reward': 1010.4223451268871,\n",
              "  'Error': 51.08752798865709,\n",
              "  'Time': 0.10752987861633301,\n",
              "  'Max V': 1010.4223451268871,\n",
              "  'Mean V': 197.85918886638643,\n",
              "  'Iteration': 55},\n",
              " {'State': None,\n",
              "  'Action': None,\n",
              "  'Reward': 1010.4223451268871,\n",
              "  'Error': 48.0408712599767,\n",
              "  'Time': 0.10917878150939941,\n",
              "  'Max V': 1010.4223451268871,\n",
              "  'Mean V': 198.370064146273,\n",
              "  'Iteration': 56},\n",
              " {'State': None,\n",
              "  'Action': None,\n",
              "  'Reward': 1010.4223451268871,\n",
              "  'Error': 45.14532870503886,\n",
              "  'Time': 0.11072015762329102,\n",
              "  'Max V': 1010.4223451268871,\n",
              "  'Mean V': 198.8504728588728,\n",
              "  'Iteration': 57},\n",
              " {'State': None,\n",
              "  'Action': None,\n",
              "  'Reward': 1010.4223451268871,\n",
              "  'Error': 42.39340506082594,\n",
              "  'Time': 0.11226105690002441,\n",
              "  'Max V': 1010.4223451268871,\n",
              "  'Mean V': 199.30192614592318,\n",
              "  'Iteration': 58},\n",
              " {'State': None,\n",
              "  'Action': None,\n",
              "  'Reward': 1010.4223451268871,\n",
              "  'Error': 39.77797682936597,\n",
              "  'Time': 0.11378192901611328,\n",
              "  'Max V': 1010.4223451268871,\n",
              "  'Mean V': 199.72586019653144,\n",
              "  'Iteration': 59},\n",
              " {'State': None,\n",
              "  'Action': None,\n",
              "  'Reward': 1010.4223451268871,\n",
              "  'Error': 37.292273838186425,\n",
              "  'Time': 0.11530828475952148,\n",
              "  'Max V': 1010.4223451268871,\n",
              "  'Mean V': 200.1236399648251,\n",
              "  'Iteration': 60},\n",
              " {'State': None,\n",
              "  'Action': None,\n",
              "  'Reward': 1010.4223451268871,\n",
              "  'Error': 34.92986171536939,\n",
              "  'Time': 0.1171412467956543,\n",
              "  'Max V': 1010.4223451268871,\n",
              "  'Mean V': 200.496562703207,\n",
              "  'Iteration': 61},\n",
              " {'State': None,\n",
              "  'Action': None,\n",
              "  'Reward': 1010.4223451268871,\n",
              "  'Error': 32.68462523384407,\n",
              "  'Time': 0.11867785453796387,\n",
              "  'Max V': 1010.4223451268871,\n",
              "  'Mean V': 200.84586132036068,\n",
              "  'Iteration': 62},\n",
              " {'State': None,\n",
              "  'Action': None,\n",
              "  'Reward': 1010.4223451268871,\n",
              "  'Error': 30.550752481802412,\n",
              "  'Time': 0.1204996109008789,\n",
              "  'Max V': 1010.4223451268871,\n",
              "  'Mean V': 201.1727075726991,\n",
              "  'Iteration': 63},\n",
              " {'State': None,\n",
              "  'Action': None,\n",
              "  'Reward': 1010.4223451268871,\n",
              "  'Error': 28.52271981826202,\n",
              "  'Time': 0.12210655212402344,\n",
              "  'Max V': 1010.4223451268871,\n",
              "  'Mean V': 201.47821509751714,\n",
              "  'Iteration': 64},\n",
              " {'State': None,\n",
              "  'Action': None,\n",
              "  'Reward': 1010.4223451268871,\n",
              "  'Error': 26.595277574833233,\n",
              "  'Time': 0.12370848655700684,\n",
              "  'Max V': 1010.4223451268871,\n",
              "  'Mean V': 201.76344229569975,\n",
              "  'Iteration': 65},\n",
              " {'State': None,\n",
              "  'Action': None,\n",
              "  'Reward': 1010.4223451268871,\n",
              "  'Error': 24.763436466678513,\n",
              "  'Time': 0.12525606155395508,\n",
              "  'Max V': 1010.4223451268871,\n",
              "  'Mean V': 202.02939507144808,\n",
              "  'Iteration': 66},\n",
              " {'State': None,\n",
              "  'Action': None,\n",
              "  'Reward': 1010.4223451268871,\n",
              "  'Error': 23.02245467748827,\n",
              "  'Time': 0.12678241729736328,\n",
              "  'Max V': 1010.4223451268871,\n",
              "  'Mean V': 202.27702943611487,\n",
              "  'Iteration': 67},\n",
              " {'State': None,\n",
              "  'Action': None,\n",
              "  'Reward': 1010.4223451268871,\n",
              "  'Error': 21.367825585041857,\n",
              "  'Time': 0.1283893585205078,\n",
              "  'Max V': 1010.4223451268871,\n",
              "  'Mean V': 202.50725398288978,\n",
              "  'Iteration': 68},\n",
              " {'State': None,\n",
              "  'Action': None,\n",
              "  'Reward': 1010.4223451268871,\n",
              "  'Error': 19.795266095580793,\n",
              "  'Time': 0.12991952896118164,\n",
              "  'Max V': 1010.4223451268871,\n",
              "  'Mean V': 202.72093223874018,\n",
              "  'Iteration': 69},\n",
              " {'State': None,\n",
              "  'Action': None,\n",
              "  'Reward': 1010.4223451268871,\n",
              "  'Error': 18.30070555679699,\n",
              "  'Time': 0.13146448135375977,\n",
              "  'Max V': 1010.4223451268871,\n",
              "  'Mean V': 202.91888489969594,\n",
              "  'Iteration': 70},\n",
              " {'State': None,\n",
              "  'Action': None,\n",
              "  'Reward': 1010.4223451268871,\n",
              "  'Error': 16.880275220736873,\n",
              "  'Time': 0.13296151161193848,\n",
              "  'Max V': 1010.4223451268871,\n",
              "  'Mean V': 203.10189195526397,\n",
              "  'Iteration': 71},\n",
              " {'State': None,\n",
              "  'Action': None,\n",
              "  'Reward': 1010.4223451268871,\n",
              "  'Error': 15.530298229345338,\n",
              "  'Time': 0.13447856903076172,\n",
              "  'Max V': 1010.4223451268871,\n",
              "  'Mean V': 203.2706947074713,\n",
              "  'Iteration': 72},\n",
              " {'State': None,\n",
              "  'Action': None,\n",
              "  'Reward': 1010.4223451268871,\n",
              "  'Error': 14.247280096726822,\n",
              "  'Time': 0.13633394241333008,\n",
              "  'Max V': 1010.4223451268871,\n",
              "  'Mean V': 203.42599768976478,\n",
              "  'Iteration': 73},\n",
              " {'State': None,\n",
              "  'Action': None,\n",
              "  'Reward': 1010.4223451268871,\n",
              "  'Error': 13.027899663486188,\n",
              "  'Time': 0.1378791332244873,\n",
              "  'Max V': 1010.4223451268871,\n",
              "  'Mean V': 203.56847049073204,\n",
              "  'Iteration': 74},\n",
              " {'State': None,\n",
              "  'Action': None,\n",
              "  'Reward': 1010.4223451268871,\n",
              "  'Error': 11.869000499734284,\n",
              "  'Time': 0.1394803524017334,\n",
              "  'Max V': 1010.4223451268871,\n",
              "  'Mean V': 203.6987494873669,\n",
              "  'Iteration': 75},\n",
              " {'State': None,\n",
              "  'Action': None,\n",
              "  'Reward': 1010.4223451268871,\n",
              "  'Error': 10.767582734504472,\n",
              "  'Time': 0.14098858833312988,\n",
              "  'Max V': 1010.4223451268871,\n",
              "  'Mean V': 203.81743949236426,\n",
              "  'Iteration': 76},\n",
              " {'State': None,\n",
              "  'Action': None,\n",
              "  'Reward': 1010.4223451268871,\n",
              "  'Error': 9.720795290430065,\n",
              "  'Time': 0.1425008773803711,\n",
              "  'Max V': 1010.4223451268871,\n",
              "  'Mean V': 203.92511531970925,\n",
              "  'Iteration': 77},\n",
              " {'State': None,\n",
              "  'Action': None,\n",
              "  'Reward': 1010.4223451268871,\n",
              "  'Error': 8.725928503581745,\n",
              "  'Time': 0.1439988613128662,\n",
              "  'Max V': 1010.4223451268871,\n",
              "  'Mean V': 204.02232327261356,\n",
              "  'Iteration': 78},\n",
              " {'State': None,\n",
              "  'Action': None,\n",
              "  'Reward': 1010.4223451268871,\n",
              "  'Error': 7.7804071093611,\n",
              "  'Time': 0.14549851417541504,\n",
              "  'Max V': 1010.4223451268871,\n",
              "  'Mean V': 204.10958255764942,\n",
              "  'Iteration': 79},\n",
              " {'State': None,\n",
              "  'Action': None,\n",
              "  'Reward': 1010.4223451268871,\n",
              "  'Error': 6.881783576293802,\n",
              "  'Time': 0.14723920822143555,\n",
              "  'Max V': 1010.4223451268871,\n",
              "  'Mean V': 204.187386628743,\n",
              "  'Iteration': 80},\n",
              " {'State': None,\n",
              "  'Action': None,\n",
              "  'Reward': 1010.4223451268871,\n",
              "  'Error': 6.027731770466644,\n",
              "  'Time': 0.14874935150146484,\n",
              "  'Max V': 1010.4223451268871,\n",
              "  'Mean V': 204.25620446450594,\n",
              "  'Iteration': 81},\n",
              " {'State': None,\n",
              "  'Action': None,\n",
              "  'Reward': 1010.4223451268871,\n",
              "  'Error': 5.216040934208511,\n",
              "  'Time': 0.15024209022521973,\n",
              "  'Max V': 1010.4223451268871,\n",
              "  'Mean V': 204.31648178221062,\n",
              "  'Iteration': 82},\n",
              " {'State': None,\n",
              "  'Action': None,\n",
              "  'Reward': 1010.4223451268871,\n",
              "  'Error': 4.444609963428782,\n",
              "  'Time': 0.1527550220489502,\n",
              "  'Max V': 1010.4223451268871,\n",
              "  'Mean V': 204.36864219155268,\n",
              "  'Iteration': 83},\n",
              " {'State': None,\n",
              "  'Action': None,\n",
              "  'Reward': 1010.4223451268871,\n",
              "  'Error': 3.711441968799722,\n",
              "  'Time': 0.16672849655151367,\n",
              "  'Max V': 1010.4223451268871,\n",
              "  'Mean V': 204.41308829118697,\n",
              "  'Iteration': 84},\n",
              " {'State': None,\n",
              "  'Action': None,\n",
              "  'Reward': 1010.4223451268871,\n",
              "  'Error': 3.014639106704271,\n",
              "  'Time': 0.17045974731445312,\n",
              "  'Max V': 1010.4223451268871,\n",
              "  'Mean V': 204.45020271087498,\n",
              "  'Iteration': 85},\n",
              " {'State': None,\n",
              "  'Action': None,\n",
              "  'Reward': 1010.4223451268871,\n",
              "  'Error': 2.3523976665687503,\n",
              "  'Time': 0.17239117622375488,\n",
              "  'Max V': 1010.4223451268871,\n",
              "  'Mean V': 204.480349101942,\n",
              "  'Iteration': 86},\n",
              " {'State': None,\n",
              "  'Action': None,\n",
              "  'Reward': 1010.4223451268871,\n",
              "  'Error': 1.7230034018639522,\n",
              "  'Time': 0.17460942268371582,\n",
              "  'Max V': 1010.4223451268871,\n",
              "  'Mean V': 204.5038730786077,\n",
              "  'Iteration': 87},\n",
              " {'State': None,\n",
              "  'Action': None,\n",
              "  'Reward': 1010.4223451268871,\n",
              "  'Error': 1.1248270926885144,\n",
              "  'Time': 0.1767115592956543,\n",
              "  'Max V': 1010.4223451268871,\n",
              "  'Mean V': 204.52110311262632,\n",
              "  'Iteration': 88},\n",
              " {'State': None,\n",
              "  'Action': None,\n",
              "  'Reward': 1010.4223451268871,\n",
              "  'Error': 0.5563203284481784,\n",
              "  'Time': 0.17879509925842285,\n",
              "  'Max V': 1010.4223451268871,\n",
              "  'Mean V': 204.53235138355322,\n",
              "  'Iteration': 89},\n",
              " {'State': None,\n",
              "  'Action': None,\n",
              "  'Reward': 1010.4223451268871,\n",
              "  'Error': 0.016011499714160493,\n",
              "  'Time': 0.18056535720825195,\n",
              "  'Max V': 1010.4223451268871,\n",
              "  'Mean V': 204.53791458683773,\n",
              "  'Iteration': 90},\n",
              " {'State': None,\n",
              "  'Action': None,\n",
              "  'Reward': 1010.4223451268871,\n",
              "  'Error': 1.1368683772161603e-13,\n",
              "  'Time': 0.18206334114074707,\n",
              "  'Max V': 1010.4223451268871,\n",
              "  'Mean V': 204.5380747018349,\n",
              "  'Iteration': 91}]"
            ]
          },
          "metadata": {},
          "execution_count": 41
        }
      ]
    },
    {
      "cell_type": "code",
      "source": [
        "from utils import decorators"
      ],
      "metadata": {
        "colab": {
          "base_uri": "https://localhost:8080/",
          "height": 314
        },
        "id": "-mxxQjON9TKM",
        "outputId": "f6b198c8-1288-4c4f-bfc7-0a2bff6213ac"
      },
      "execution_count": null,
      "outputs": [
        {
          "output_type": "error",
          "ename": "ImportError",
          "evalue": "ignored",
          "traceback": [
            "\u001b[0;31m---------------------------------------------------------------------------\u001b[0m",
            "\u001b[0;31mImportError\u001b[0m                               Traceback (most recent call last)",
            "\u001b[0;32m<ipython-input-5-51a6fb75e7c5>\u001b[0m in \u001b[0;36m<cell line: 1>\u001b[0;34m()\u001b[0m\n\u001b[0;32m----> 1\u001b[0;31m \u001b[0;32mfrom\u001b[0m \u001b[0mutils\u001b[0m \u001b[0;32mimport\u001b[0m \u001b[0mdecorators\u001b[0m\u001b[0;34m\u001b[0m\u001b[0;34m\u001b[0m\u001b[0m\n\u001b[0m",
            "\u001b[0;31mImportError\u001b[0m: cannot import name 'decorators' from 'utils' (/usr/local/lib/python3.10/dist-packages/utils/__init__.py)",
            "",
            "\u001b[0;31m---------------------------------------------------------------------------\u001b[0;32m\nNOTE: If your import is failing due to a missing package, you can\nmanually install dependencies using either !pip or !apt.\n\nTo view examples of installing some common dependencies, click the\n\"Open Examples\" button below.\n\u001b[0;31m---------------------------------------------------------------------------\u001b[0m\n"
          ],
          "errorDetails": {
            "actions": [
              {
                "action": "open_url",
                "actionText": "Open Examples",
                "url": "/notebooks/snippets/importing_libraries.ipynb"
              }
            ]
          }
        }
      ]
    },
    {
      "cell_type": "code",
      "source": [
        "from algorithms.planner import Planner"
      ],
      "metadata": {
        "id": "g065IB3X9t8F"
      },
      "execution_count": null,
      "outputs": []
    },
    {
      "cell_type": "code",
      "source": [
        "from hiive.mdptoolbox import mdp\n",
        "#speed up PI"
      ],
      "metadata": {
        "id": "oCzhR-IM-J0Y"
      },
      "execution_count": null,
      "outputs": []
    },
    {
      "cell_type": "markdown",
      "source": [
        "## Taxi Problem"
      ],
      "metadata": {
        "id": "XEX7hX-LoEOu"
      }
    },
    {
      "cell_type": "code",
      "source": [
        "import numpy as np\n",
        "import warnings\n",
        "\n",
        "class Planner:\n",
        "    def __init__(self, P):\n",
        "        self.P = P\n",
        "\n",
        "\n",
        "    def value_iteration(self, gamma=1.0, n_iters=1000, theta=1e-10):\n",
        "        \"\"\"\n",
        "        PARAMETERS:\n",
        "\n",
        "        gamma {float}:\n",
        "            Discount factor\n",
        "\n",
        "        n_iters {int}:\n",
        "            Number of iterations\n",
        "\n",
        "        theta {float}:\n",
        "            Convergence criterion for value iteration.\n",
        "            State values are considered to be converged when the maximum difference between new and previous state values is less than theta.\n",
        "            Stops at n_iters or theta convergence - whichever comes first.\n",
        "\n",
        "\n",
        "        RETURNS:\n",
        "\n",
        "        V {numpy array}, shape(possible states):\n",
        "            State values array\n",
        "\n",
        "        V_track {numpy array}, shape(n_episodes, nS):\n",
        "            Log of V(s) for each iteration\n",
        "\n",
        "        pi {lambda}, input state value, output action value:\n",
        "            Policy mapping states to actions.\n",
        "        \"\"\"\n",
        "        V = np.zeros(len(self.P), dtype=np.float64)\n",
        "        V_track = np.zeros((n_iters, len(self.P)), dtype=np.float64)\n",
        "        i = 0\n",
        "        converged = False\n",
        "        while i < n_iters-1 and not converged:\n",
        "            i += 1\n",
        "            Q = np.zeros((len(self.P), len(self.P[0])), dtype=np.float64)\n",
        "            for s in range(len(self.P)):\n",
        "                for a in range(len(self.P[s])):\n",
        "                    for prob, next_state, reward, done in self.P[s][a]:\n",
        "                        Q[s][a] += prob * (reward + gamma * V[next_state] * (not done))\n",
        "            if np.max(np.abs(V - np.max(Q, axis=1))) < theta:\n",
        "                converged = True\n",
        "            V = np.max(Q, axis=1)\n",
        "            V_track[i] = V\n",
        "        if not converged:\n",
        "            warnings.warn(\"Max iterations reached before convergence.  Check theta and n_iters.  \")\n",
        "        # Explanation of lambda:\n",
        "        # def pi(s):\n",
        "        #   policy = dict()\n",
        "        #   for state, action in enumerate(np.argmax(Q, axis=1)):\n",
        "        #       policy[state] = action\n",
        "        #   return policy[s]\n",
        "        pi = lambda s: {s:a for s, a in enumerate(np.argmax(Q, axis=1))}[s]\n",
        "        return V, V_track, pi\n",
        "\n",
        "\n",
        "    def policy_iteration(self, gamma=1.0, n_iters=50, theta=1e-10):\n",
        "        \"\"\"\n",
        "        PARAMETERS:\n",
        "\n",
        "        gamma {float}:\n",
        "            Discount factor\n",
        "\n",
        "        n_iters {int}:\n",
        "            Number of iterations\n",
        "\n",
        "        theta {float}:\n",
        "            Convergence criterion for policy evaluation.\n",
        "            State values are considered to be converged when the maximum difference between new and previous state\n",
        "            values is less than theta.\n",
        "\n",
        "\n",
        "        RETURNS:\n",
        "\n",
        "        V {numpy array}, shape(possible states):\n",
        "            State values array\n",
        "\n",
        "        V_track {numpy array}, shape(n_episodes, nS):\n",
        "            Log of V(s) for each iteration\n",
        "\n",
        "        pi {lambda}, input state value, output action value:\n",
        "            Policy mapping states to actions.\n",
        "        \"\"\"\n",
        "        random_actions = np.random.choice(tuple(self.P[0].keys()), len(self.P))\n",
        "        # Explanation of lambda:\n",
        "        # def pi(s):\n",
        "        #   policy = dict()\n",
        "        #   for state, action in enumerate(np.argmax(Q, axis=1)):\n",
        "        #       policy[state] = action\n",
        "        #   return policy[s]\n",
        "        pi = {s: a for s, a in enumerate(random_actions)}\n",
        "        # initial V to give to `policy_evaluation` for the first time\n",
        "        V = np.zeros(len(self.P), dtype=np.float64)\n",
        "        V_track = np.zeros((n_iters, len(self.P)), dtype=np.float64)\n",
        "        i = 0\n",
        "        converged = False\n",
        "        while i < n_iters-1 and not converged:\n",
        "            print(i)\n",
        "            i += 1\n",
        "            old_pi = {s: pi[s] for s in range(len(self.P))}\n",
        "            V = self.policy_evaluation(pi, V, gamma, theta)\n",
        "            V_track[i] = V\n",
        "            pi = self.policy_improvement(V, gamma)\n",
        "            if old_pi == pi:\n",
        "                converged = True\n",
        "        if not converged:\n",
        "            warnings.warn(\"Max iterations reached before convergence.  Check n_iters.\")\n",
        "        return V, V_track, pi\n",
        "\n",
        "    def policy_evaluation(self, pi, prev_V, gamma=1.0, theta=1e-10):\n",
        "        while True:\n",
        "            V = np.zeros(len(self.P), dtype=np.float64)\n",
        "            for s in range(len(self.P)):\n",
        "                for prob, next_state, reward, done in self.P[s][pi[s]]:\n",
        "                    V[s] += prob * (reward + gamma * prev_V[next_state] * (not done))\n",
        "\n",
        "            diff = np.max(np.abs(prev_V - V))\n",
        "            if diff < theta:\n",
        "                break\n",
        "            prev_V = V.copy()\n",
        "        return V\n",
        "\n",
        "    def policy_improvement(self, V, gamma=1.0):\n",
        "        Q = np.zeros((len(self.P), len(self.P[0])), dtype=np.float64)\n",
        "        for s in range(len(self.P)):\n",
        "            for a in range(len(self.P[s])):\n",
        "                for prob, next_state, reward, done in self.P[s][a]:\n",
        "                    Q[s][a] += prob * (reward + gamma * V[next_state] * (not done))\n",
        "        # Explanation of lambda:\n",
        "        # def new_pi(s):\n",
        "        #   policy = dict()\n",
        "        #   for state, action in enumerate(np.argmax(Q, axis=1)):\n",
        "        #       policy[state] = action\n",
        "        #   return policy[s]\n",
        "        new_pi = {s: a for s, a in enumerate(np.argmax(Q, axis=1))}\n",
        "        return new_pi"
      ],
      "metadata": {
        "id": "eKlvCCUmfDQm"
      },
      "execution_count": null,
      "outputs": []
    },
    {
      "cell_type": "code",
      "source": [
        "import gymnasium\n",
        "env = gymnasium.make(\"Taxi-v3\")\n",
        "start = time.time()\n",
        "V, pi_V_track, pi = Planner(env.P).policy_iteration(gamma=.99)\n",
        "end = time.time()\n",
        "print(\"Policy Iteration Runtime: \" + str(end - start))\n",
        "start = time.time()\n",
        "V, vi_V_track, pi = Planner(env.P).value_iteration(gamma=.99)\n",
        "end = time.time()\n",
        "\n",
        "print(\"Value Iteration Runtime: \" + str(end - start))"
      ],
      "metadata": {
        "id": "6MddupTDailC",
        "colab": {
          "base_uri": "https://localhost:8080/"
        },
        "outputId": "f5c243d8-a66b-43dc-f542-4084e17cbd9e"
      },
      "execution_count": 312,
      "outputs": [
        {
          "output_type": "stream",
          "name": "stderr",
          "text": [
            "/usr/local/lib/python3.10/dist-packages/gymnasium/core.py:311: UserWarning: \u001b[33mWARN: env.P to get variables from other wrappers is deprecated and will be removed in v1.0, to get this variable you can do `env.unwrapped.P` for environment variables or `env.get_wrapper_attr('P')` that will search the reminding wrappers.\u001b[0m\n",
            "  logger.warn(\n"
          ]
        },
        {
          "output_type": "stream",
          "name": "stdout",
          "text": [
            "0\n",
            "1\n",
            "2\n",
            "3\n",
            "4\n",
            "5\n",
            "6\n",
            "7\n",
            "8\n",
            "9\n",
            "10\n",
            "11\n",
            "12\n",
            "13\n",
            "14\n",
            "15\n",
            "Policy Iteration Runtime: 9.382135391235352\n",
            "Value Iteration Runtime: 0.06822419166564941\n"
          ]
        }
      ]
    },
    {
      "cell_type": "code",
      "source": [
        "print(vi_diffs)"
      ],
      "metadata": {
        "colab": {
          "base_uri": "https://localhost:8080/"
        },
        "id": "pYdwiivUnV_I",
        "outputId": "cb339b37-6d4f-4b96-9b07-6c78d7a0cb97"
      },
      "execution_count": 311,
      "outputs": [
        {
          "output_type": "stream",
          "name": "stdout",
          "text": [
            "[20.0, 19.8, 19.602, 19.40598, 19.2119202, 19.019800998, 18.829602988020003, 18.641306958139804, 18.454893888558406, 18.27034494967282, 18.08764150017609, 17.90676508517433, 17.727697434322586, 17.550420459979364, 17.374916255379567, 17.20116709282577, 17.029155421897514, 16.85886386767854, 0.0, 20.0, 0.0, 0.0, 0.0, 0.0, 0.0, 0.0, 0.0, 0.0, 0.0, 0.0, 0.0, 0.0, 0.0, 0.0, 0.0, 0.0, 0.0, 0.0, 0.0, 0.0, 0.0, 0.0, 0.0, 0.0, 0.0, 0.0, 0.0, 0.0, 0.0, 0.0, 0.0, 0.0, 0.0, 0.0, 0.0, 0.0, 0.0, 0.0, 0.0, 0.0, 0.0, 0.0, 0.0, 0.0, 0.0, 0.0, 0.0, 0.0, 0.0, 0.0, 0.0, 0.0, 0.0, 0.0, 0.0, 0.0, 0.0, 0.0, 0.0, 0.0, 0.0, 0.0, 0.0, 0.0, 0.0, 0.0, 0.0, 0.0, 0.0, 0.0, 0.0, 0.0, 0.0, 0.0, 0.0, 0.0, 0.0, 0.0, 0.0, 0.0, 0.0, 0.0, 0.0, 0.0, 0.0, 0.0, 0.0, 0.0, 0.0, 0.0, 0.0, 0.0, 0.0, 0.0, 0.0, 0.0, 0.0, 0.0, 0.0, 0.0, 0.0, 0.0, 0.0, 0.0, 0.0, 0.0, 0.0, 0.0, 0.0, 0.0, 0.0, 0.0, 0.0, 0.0, 0.0, 0.0, 0.0, 0.0, 0.0, 0.0, 0.0, 0.0, 0.0, 0.0, 0.0, 0.0, 0.0, 0.0, 0.0, 0.0, 0.0, 0.0, 0.0, 0.0, 0.0, 0.0, 0.0, 0.0, 0.0, 0.0, 0.0, 0.0, 0.0, 0.0, 0.0, 0.0, 0.0, 0.0, 0.0, 0.0, 0.0, 0.0, 0.0, 0.0, 0.0, 0.0, 0.0, 0.0, 0.0, 0.0, 0.0, 0.0, 0.0, 0.0, 0.0, 0.0, 0.0, 0.0, 0.0, 0.0, 0.0, 0.0, 0.0, 0.0, 0.0, 0.0, 0.0, 0.0, 0.0, 0.0, 0.0, 0.0, 0.0, 0.0, 0.0, 0.0, 0.0, 0.0, 0.0, 0.0, 0.0, 0.0, 0.0, 0.0, 0.0, 0.0, 0.0, 0.0, 0.0, 0.0, 0.0, 0.0, 0.0, 0.0, 0.0, 0.0, 0.0, 0.0, 0.0, 0.0, 0.0, 0.0, 0.0, 0.0, 0.0, 0.0, 0.0, 0.0, 0.0, 0.0, 0.0, 0.0, 0.0, 0.0, 0.0, 0.0, 0.0, 0.0, 0.0, 0.0, 0.0, 0.0, 0.0, 0.0, 0.0, 0.0, 0.0, 0.0, 0.0, 0.0, 0.0, 0.0, 0.0, 0.0, 0.0, 0.0, 0.0, 0.0, 0.0, 0.0, 0.0, 0.0, 0.0, 0.0, 0.0, 0.0, 0.0, 0.0, 0.0, 0.0, 0.0, 0.0, 0.0, 0.0, 0.0, 0.0, 0.0, 0.0, 0.0, 0.0, 0.0, 0.0, 0.0, 0.0, 0.0, 0.0, 0.0, 0.0, 0.0, 0.0, 0.0, 0.0, 0.0, 0.0, 0.0, 0.0, 0.0, 0.0, 0.0, 0.0, 0.0, 0.0, 0.0, 0.0, 0.0, 0.0, 0.0, 0.0, 0.0, 0.0, 0.0, 0.0, 0.0, 0.0, 0.0, 0.0, 0.0, 0.0, 0.0, 0.0, 0.0, 0.0, 0.0, 0.0, 0.0, 0.0, 0.0, 0.0, 0.0, 0.0, 0.0, 0.0, 0.0, 0.0, 0.0, 0.0, 0.0, 0.0, 0.0, 0.0, 0.0, 0.0, 0.0, 0.0, 0.0, 0.0, 0.0, 0.0, 0.0, 0.0, 0.0, 0.0, 0.0, 0.0, 0.0, 0.0, 0.0, 0.0, 0.0, 0.0, 0.0, 0.0, 0.0, 0.0, 0.0, 0.0, 0.0, 0.0, 0.0, 0.0, 0.0, 0.0, 0.0, 0.0, 0.0, 0.0, 0.0, 0.0, 0.0, 0.0, 0.0, 0.0, 0.0, 0.0, 0.0, 0.0, 0.0, 0.0, 0.0, 0.0, 0.0, 0.0, 0.0, 0.0, 0.0, 0.0, 0.0, 0.0, 0.0, 0.0, 0.0, 0.0, 0.0, 0.0, 0.0, 0.0, 0.0, 0.0, 0.0, 0.0, 0.0, 0.0, 0.0, 0.0, 0.0, 0.0, 0.0, 0.0, 0.0, 0.0, 0.0, 0.0, 0.0, 0.0, 0.0, 0.0, 0.0, 0.0, 0.0, 0.0, 0.0, 0.0, 0.0, 0.0, 0.0, 0.0, 0.0, 0.0, 0.0, 0.0, 0.0, 0.0, 0.0, 0.0, 0.0, 0.0, 0.0, 0.0, 0.0, 0.0, 0.0, 0.0, 0.0, 0.0, 0.0, 0.0, 0.0, 0.0, 0.0, 0.0, 0.0, 0.0, 0.0, 0.0, 0.0, 0.0, 0.0, 0.0, 0.0, 0.0, 0.0, 0.0, 0.0, 0.0, 0.0, 0.0, 0.0, 0.0, 0.0, 0.0, 0.0, 0.0, 0.0, 0.0, 0.0, 0.0, 0.0, 0.0, 0.0, 0.0, 0.0, 0.0, 0.0, 0.0, 0.0, 0.0, 0.0, 0.0, 0.0, 0.0, 0.0, 0.0, 0.0, 0.0, 0.0, 0.0, 0.0, 0.0, 0.0, 0.0, 0.0, 0.0, 0.0, 0.0, 0.0, 0.0, 0.0, 0.0, 0.0, 0.0, 0.0, 0.0, 0.0, 0.0, 0.0, 0.0, 0.0, 0.0, 0.0, 0.0, 0.0, 0.0, 0.0, 0.0, 0.0, 0.0, 0.0, 0.0, 0.0, 0.0, 0.0, 0.0, 0.0, 0.0, 0.0, 0.0, 0.0, 0.0, 0.0, 0.0, 0.0, 0.0, 0.0, 0.0, 0.0, 0.0, 0.0, 0.0, 0.0, 0.0, 0.0, 0.0, 0.0, 0.0, 0.0, 0.0, 0.0, 0.0, 0.0, 0.0, 0.0, 0.0, 0.0, 0.0, 0.0, 0.0, 0.0, 0.0, 0.0, 0.0, 0.0, 0.0, 0.0, 0.0, 0.0, 0.0, 0.0, 0.0, 0.0, 0.0, 0.0, 0.0, 0.0, 0.0, 0.0, 0.0, 0.0, 0.0, 0.0, 0.0, 0.0, 0.0, 0.0, 0.0, 0.0, 0.0, 0.0, 0.0, 0.0, 0.0, 0.0, 0.0, 0.0, 0.0, 0.0, 0.0, 0.0, 0.0, 0.0, 0.0, 0.0, 0.0, 0.0, 0.0, 0.0, 0.0, 0.0, 0.0, 0.0, 0.0, 0.0, 0.0, 0.0, 0.0, 0.0, 0.0, 0.0, 0.0, 0.0, 0.0, 0.0, 0.0, 0.0, 0.0, 0.0, 0.0, 0.0, 0.0, 0.0, 0.0, 0.0, 0.0, 0.0, 0.0, 0.0, 0.0, 0.0, 0.0, 0.0, 0.0, 0.0, 0.0, 0.0, 0.0, 0.0, 0.0, 0.0, 0.0, 0.0, 0.0, 0.0, 0.0, 0.0, 0.0, 0.0, 0.0, 0.0, 0.0, 0.0, 0.0, 0.0, 0.0, 0.0, 0.0, 0.0, 0.0, 0.0, 0.0, 0.0, 0.0, 0.0, 0.0, 0.0, 0.0, 0.0, 0.0, 0.0, 0.0, 0.0, 0.0, 0.0, 0.0, 0.0, 0.0, 0.0, 0.0, 0.0, 0.0, 0.0, 0.0, 0.0, 0.0, 0.0, 0.0, 0.0, 0.0, 0.0, 0.0, 0.0, 0.0, 0.0, 0.0, 0.0, 0.0, 0.0, 0.0, 0.0, 0.0, 0.0, 0.0, 0.0, 0.0, 0.0, 0.0, 0.0, 0.0, 0.0, 0.0, 0.0, 0.0, 0.0, 0.0, 0.0, 0.0, 0.0, 0.0, 0.0, 0.0, 0.0, 0.0, 0.0, 0.0, 0.0, 0.0, 0.0, 0.0, 0.0, 0.0, 0.0, 0.0, 0.0, 0.0, 0.0, 0.0, 0.0, 0.0, 0.0, 0.0, 0.0, 0.0, 0.0, 0.0, 0.0, 0.0, 0.0, 0.0, 0.0, 0.0, 0.0, 0.0, 0.0, 0.0, 0.0, 0.0, 0.0, 0.0, 0.0, 0.0, 0.0, 0.0, 0.0, 0.0, 0.0, 0.0, 0.0, 0.0, 0.0, 0.0, 0.0, 0.0, 0.0, 0.0, 0.0, 0.0, 0.0, 0.0, 0.0, 0.0, 0.0, 0.0, 0.0, 0.0, 0.0, 0.0, 0.0, 0.0, 0.0, 0.0, 0.0, 0.0, 0.0, 0.0, 0.0, 0.0, 0.0, 0.0, 0.0, 0.0, 0.0, 0.0, 0.0, 0.0, 0.0, 0.0, 0.0, 0.0, 0.0, 0.0, 0.0, 0.0, 0.0, 0.0, 0.0, 0.0, 0.0, 0.0, 0.0, 0.0, 0.0, 0.0, 0.0, 0.0, 0.0, 0.0, 0.0, 0.0, 0.0, 0.0, 0.0, 0.0, 0.0, 0.0, 0.0, 0.0, 0.0, 0.0, 0.0, 0.0, 0.0, 0.0, 0.0, 0.0, 0.0, 0.0, 0.0, 0.0, 0.0, 0.0, 0.0, 0.0, 0.0, 0.0, 0.0, 0.0, 0.0, 0.0, 0.0, 0.0, 0.0, 0.0, 0.0, 0.0, 0.0, 0.0, 0.0, 0.0, 0.0, 0.0, 0.0, 0.0, 0.0, 0.0, 0.0, 0.0, 0.0, 0.0, 0.0, 0.0, 0.0, 0.0, 0.0, 0.0, 0.0, 0.0, 0.0, 0.0, 0.0, 0.0, 0.0, 0.0, 0.0, 0.0, 0.0, 0.0, 0.0, 0.0, 0.0, 0.0, 0.0, 0.0, 0.0, 0.0, 0.0, 0.0, 0.0, 0.0, 0.0, 0.0, 0.0, 0.0, 0.0, 0.0, 0.0, 0.0, 0.0, 0.0, 0.0, 0.0, 0.0, 0.0, 0.0, 0.0, 0.0, 0.0, 0.0, 0.0, 0.0, 0.0, 0.0, 0.0, 0.0, 0.0, 0.0, 0.0, 0.0, 0.0, 0.0, 0.0, 0.0, 0.0, 0.0, 0.0, 0.0, 0.0, 0.0, 0.0, 0.0, 0.0, 0.0, 0.0, 0.0, 0.0, 0.0, 0.0, 0.0, 0.0, 0.0, 0.0, 0.0]\n"
          ]
        }
      ]
    },
    {
      "cell_type": "code",
      "source": [
        "import seaborn as sns\n",
        "import matplotlib.pyplot as plt\n",
        "from matplotlib.patches import Patch\n",
        "\n",
        "\n",
        "# pi: reshape to 20,20?\n",
        "pi_reshaped = np.reshape([pi(i) for i in range(500)], (25, 20))\n",
        "print(pi_reshaped)\n",
        "cmap = sns.color_palette(\"bright\", as_cmap=True)\n",
        "\n",
        "legend_elements = [\n",
        "        Patch(facecolor=cmap[0], edgecolor=\"black\", label=\"move south\"),\n",
        "        Patch(facecolor=cmap[2], edgecolor=\"black\", label=\"move north\"),\n",
        "        Patch(facecolor=cmap[4], edgecolor=\"black\", label=\"move east\"),\n",
        "        Patch(facecolor=cmap[6], edgecolor=\"black\", label=\"move west\"),\n",
        "        Patch(facecolor=cmap[8], edgecolor=\"black\", label=\"pickup passenger\"),\n",
        "        Patch(facecolor=cmap[9], edgecolor=\"black\", label=\"drop off passenger\")\n",
        "    ]\n",
        "\n",
        "\n",
        "sns.heatmap(pi_reshaped, cmap=cmap, cbar=False)\n",
        "plt.legend(handles=legend_elements, bbox_to_anchor=(1.3, 1))\n",
        "plt.ylabel(\"taxi_position\")\n",
        "plt.xlabel(\"Passenger/Destination State\")\n",
        "plt.tight_layout()\n",
        "plt.savefig(\"vi_taxi_policy.png\")"
      ],
      "metadata": {
        "colab": {
          "base_uri": "https://localhost:8080/",
          "height": 921
        },
        "id": "lDIIzLsuxZt8",
        "outputId": "c6656a52-7711-4124-b836-26576dfe52b7"
      },
      "execution_count": 313,
      "outputs": [
        {
          "output_type": "stream",
          "name": "stdout",
          "text": [
            "[[4 4 4 4 0 0 0 0 0 0 0 0 0 0 0 0 5 0 0 0]\n",
            " [3 3 3 3 0 0 0 0 0 0 0 0 0 0 0 0 3 0 0 0]\n",
            " [0 0 0 0 2 2 2 2 0 0 0 0 0 0 0 0 0 2 0 0]\n",
            " [0 0 0 0 2 2 2 2 0 0 0 0 0 0 0 0 0 2 0 0]\n",
            " [0 0 0 0 4 4 4 4 0 0 0 0 0 0 0 0 0 5 0 0]\n",
            " [1 1 1 1 0 0 0 0 0 0 0 0 0 0 0 0 1 0 0 0]\n",
            " [1 1 1 1 0 0 0 0 0 0 0 0 0 0 0 0 1 0 0 0]\n",
            " [0 0 0 0 1 1 1 1 0 0 0 0 0 0 0 0 0 1 0 0]\n",
            " [0 0 0 0 1 1 1 1 0 0 0 0 0 0 0 0 0 1 0 0]\n",
            " [0 0 0 0 1 1 1 1 0 0 0 0 0 0 0 0 0 1 0 0]\n",
            " [1 1 1 1 2 2 2 2 0 0 0 0 2 2 2 2 1 2 0 2]\n",
            " [1 1 1 1 2 2 2 2 3 3 3 3 2 2 2 2 1 2 3 2]\n",
            " [3 3 3 3 1 1 1 1 3 3 3 3 2 2 2 2 3 1 3 2]\n",
            " [3 3 3 3 1 1 1 1 3 3 3 3 0 0 0 0 3 1 3 0]\n",
            " [3 3 3 3 1 1 1 1 3 3 3 3 0 0 0 0 3 1 3 0]\n",
            " [1 1 1 1 1 1 1 1 0 0 0 0 1 1 1 1 1 1 0 1]\n",
            " [1 1 1 1 1 1 1 1 1 1 1 1 1 1 1 1 1 1 1 1]\n",
            " [1 1 1 1 1 1 1 1 1 1 1 1 1 1 1 1 1 1 1 1]\n",
            " [1 1 1 1 1 1 1 1 1 1 1 1 0 0 0 0 1 1 1 0]\n",
            " [1 1 1 1 1 1 1 1 1 1 1 1 0 0 0 0 1 1 1 0]\n",
            " [1 1 1 1 1 1 1 1 4 4 4 4 1 1 1 1 1 1 5 1]\n",
            " [1 1 1 1 1 1 1 1 1 1 1 1 1 1 1 1 1 1 1 1]\n",
            " [1 1 1 1 1 1 1 1 1 1 1 1 1 1 1 1 1 1 1 1]\n",
            " [1 1 1 1 1 1 1 1 1 1 1 1 4 4 4 4 1 1 1 5]\n",
            " [1 1 1 1 1 1 1 1 1 1 1 1 3 3 3 3 1 1 1 3]]\n"
          ]
        },
        {
          "output_type": "display_data",
          "data": {
            "text/plain": [
              "<Figure size 640x480 with 1 Axes>"
            ],
            "image/png": "[encoded data removed]"
          },
          "metadata": {}
        }
      ]
    },
    {
      "cell_type": "code",
      "source": [
        "'''\n",
        "import gymnasium\n",
        "env = gymnasium.make(\"Taxi-v3\")\n",
        "V, V_track, pi = Planner(env.P).policy_iteration(gamma=.99)\n",
        "\n",
        "\n",
        "'''\n",
        "help(Planner.policy_iteration)"
      ],
      "metadata": {
        "colab": {
          "base_uri": "https://localhost:8080/"
        },
        "id": "HA7GZ5-V-Dwn",
        "outputId": "5e1c0bda-5e34-4362-ab1f-8828cfa0f6d8"
      },
      "execution_count": 291,
      "outputs": [
        {
          "output_type": "stream",
          "name": "stdout",
          "text": [
            "Help on function policy_iteration in module __main__:\n",
            "\n",
            "policy_iteration(self, gamma=1.0, n_iters=50, theta=1e-10)\n",
            "    PARAMETERS:\n",
            "    \n",
            "    gamma {float}:\n",
            "        Discount factor\n",
            "    \n",
            "    n_iters {int}:\n",
            "        Number of iterations\n",
            "    \n",
            "    theta {float}:\n",
            "        Convergence criterion for policy evaluation.\n",
            "        State values are considered to be converged when the maximum difference between new and previous state\n",
            "        values is less than theta.\n",
            "    \n",
            "    \n",
            "    RETURNS:\n",
            "    \n",
            "    V {numpy array}, shape(possible states):\n",
            "        State values array\n",
            "    \n",
            "    V_track {numpy array}, shape(n_episodes, nS):\n",
            "        Log of V(s) for each iteration\n",
            "    \n",
            "    pi {lambda}, input state value, output action value:\n",
            "        Policy mapping states to actions.\n",
            "\n"
          ]
        }
      ]
    },
    {
      "cell_type": "code",
      "source": [
        "import seaborn as sns\n",
        "import matplotlib.pyplot as plt\n",
        "from matplotlib.patches import Patch\n",
        "\n",
        "\n",
        "# pi: reshape to 20,20?\n",
        "pi_reshaped = np.reshape([pi[i] for i in range(500)], (25, 20))\n",
        "print(pi_reshaped)\n",
        "cmap = sns.color_palette(\"bright\", as_cmap=True)\n",
        "\n",
        "legend_elements = [\n",
        "        Patch(facecolor=cmap[0], edgecolor=\"black\", label=\"move south\"),\n",
        "        Patch(facecolor=cmap[2], edgecolor=\"black\", label=\"move north\"),\n",
        "        Patch(facecolor=cmap[4], edgecolor=\"black\", label=\"move east\"),\n",
        "        Patch(facecolor=cmap[6], edgecolor=\"black\", label=\"move west\"),\n",
        "        Patch(facecolor=cmap[8], edgecolor=\"black\", label=\"pickup passenger\"),\n",
        "        Patch(facecolor=cmap[9], edgecolor=\"black\", label=\"drop off passenger\")\n",
        "    ]\n",
        "\n",
        "plt.legend(handles=legend_elements, bbox_to_anchor=(1.3, 1))\n",
        "\n",
        "sns.heatmap(pi_reshaped, cmap=cmap, cbar=False)\n",
        "plt.ylabel(\"taxi_position\")\n",
        "plt.xlabel(\"Passenger/Destination State\")\n",
        "plt.savefig(\"pi_taxi_policy.png\")\n"
      ],
      "metadata": {
        "colab": {
          "base_uri": "https://localhost:8080/",
          "height": 883
        },
        "id": "kKLbXI_5Beny",
        "outputId": "b560cb38-2edf-44c4-af07-54467a2cfdc6"
      },
      "execution_count": null,
      "outputs": [
        {
          "output_type": "stream",
          "name": "stdout",
          "text": [
            "[[4 4 4 4 0 0 0 0 0 0 0 0 0 0 0 0 5 0 0 0]\n",
            " [3 3 3 3 0 0 0 0 0 0 0 0 0 0 0 0 3 0 0 0]\n",
            " [0 0 0 0 2 2 2 2 0 0 0 0 0 0 0 0 0 2 0 0]\n",
            " [0 0 0 0 2 2 2 2 0 0 0 0 0 0 0 0 0 2 0 0]\n",
            " [0 0 0 0 4 4 4 4 0 0 0 0 0 0 0 0 0 5 0 0]\n",
            " [1 1 1 1 0 0 0 0 0 0 0 0 0 0 0 0 1 0 0 0]\n",
            " [1 1 1 1 0 0 0 0 0 0 0 0 0 0 0 0 1 0 0 0]\n",
            " [0 0 0 0 1 1 1 1 0 0 0 0 0 0 0 0 0 1 0 0]\n",
            " [0 0 0 0 1 1 1 1 0 0 0 0 0 0 0 0 0 1 0 0]\n",
            " [0 0 0 0 1 1 1 1 0 0 0 0 0 0 0 0 0 1 0 0]\n",
            " [1 1 1 1 2 2 2 2 0 0 0 0 2 2 2 2 1 2 0 2]\n",
            " [1 1 1 1 2 2 2 2 3 3 3 3 2 2 2 2 1 2 3 2]\n",
            " [3 3 3 3 1 1 1 1 3 3 3 3 2 2 2 2 3 1 3 2]\n",
            " [3 3 3 3 1 1 1 1 3 3 3 3 0 0 0 0 3 1 3 0]\n",
            " [3 3 3 3 1 1 1 1 3 3 3 3 0 0 0 0 3 1 3 0]\n",
            " [1 1 1 1 1 1 1 1 0 0 0 0 1 1 1 1 1 1 0 1]\n",
            " [1 1 1 1 1 1 1 1 1 1 1 1 1 1 1 1 1 1 1 1]\n",
            " [1 1 1 1 1 1 1 1 1 1 1 1 1 1 1 1 1 1 1 1]\n",
            " [1 1 1 1 1 1 1 1 1 1 1 1 0 0 0 0 1 1 1 0]\n",
            " [1 1 1 1 1 1 1 1 1 1 1 1 0 0 0 0 1 1 1 0]\n",
            " [1 1 1 1 1 1 1 1 4 4 4 4 1 1 1 1 1 1 5 1]\n",
            " [1 1 1 1 1 1 1 1 1 1 1 1 1 1 1 1 1 1 1 1]\n",
            " [1 1 1 1 1 1 1 1 1 1 1 1 1 1 1 1 1 1 1 1]\n",
            " [1 1 1 1 1 1 1 1 1 1 1 1 4 4 4 4 1 1 1 5]\n",
            " [1 1 1 1 1 1 1 1 1 1 1 1 3 3 3 3 1 1 1 3]]\n"
          ]
        },
        {
          "output_type": "display_data",
          "data": {
            "text/plain": [
              "<Figure size 640x480 with 1 Axes>"
            ],
            "image/png": "[encoded data removed]"
          },
          "metadata": {}
        }
      ]
    },
    {
      "cell_type": "code",
      "source": [
        "Q, V, pi, Q_track, pi_track = RL(env.env).q_learning(epsilon_decay_ratio=.99)"
      ],
      "metadata": {
        "colab": {
          "base_uri": "https://localhost:8080/"
        },
        "id": "6zIpVyuDbJi4",
        "outputId": "b10abe13-738a-45d2-cb0e-12d96adba846"
      },
      "execution_count": null,
      "outputs": [
        {
          "output_type": "stream",
          "name": "stderr",
          "text": [
            "                                                      "
          ]
        },
        {
          "output_type": "stream",
          "name": "stdout",
          "text": [
            "runtime = 20.45 seconds\n"
          ]
        },
        {
          "output_type": "stream",
          "name": "stderr",
          "text": [
            "\r"
          ]
        }
      ]
    },
    {
      "cell_type": "code",
      "source": [
        "help (RL(env.env).q_learning)"
      ],
      "metadata": {
        "colab": {
          "base_uri": "https://localhost:8080/"
        },
        "id": "BnnQ1_sqJbZr",
        "outputId": "fe3adae3-d148-4ce0-b5f1-572808a59723"
      },
      "execution_count": null,
      "outputs": [
        {
          "output_type": "stream",
          "name": "stdout",
          "text": [
            "Help on method q_learning in module algorithms.rl:\n",
            "\n",
            "q_learning(nS=None, nA=None, convert_state_obs=<function RL.<lambda> at 0x7ec42c44b250>, gamma=0.99, init_alpha=0.5, min_alpha=0.01, alpha_decay_ratio=0.5, init_epsilon=1.0, min_epsilon=0.1, epsilon_decay_ratio=0.9, n_episodes=10000) method of algorithms.rl.RL instance\n",
            "    Parameters\n",
            "    ----------------------------\n",
            "    nS {int}:\n",
            "        Number of states\n",
            "    \n",
            "    nA {int}:\n",
            "        Number of available actions\n",
            "        \n",
            "    convert_state_obs {lambda}:\n",
            "        The state conversion utilized in BlackJack ToyText problem.\n",
            "        Returns three state tuple as one of the 280 converted states.\n",
            "    \n",
            "    gamma {float}, default = 0.99:\n",
            "        Discount factor\n",
            "    \n",
            "    init_alpha {float}, default = 0.5:\n",
            "        Learning rate\n",
            "    \n",
            "    min_alpha {float}, default = 0.01:\n",
            "        Minimum learning rate\n",
            "    \n",
            "    alpha_decay_ratio {float}, default = 0.5:\n",
            "        Decay schedule of learing rate for future iterations\n",
            "    \n",
            "    init_epsilon {float}, default = 1.0:\n",
            "        Initial epsilon value for epsilon greedy strategy.\n",
            "        Chooses max(Q) over available actions with probability 1-epsilon.\n",
            "    \n",
            "    min_epsilon {float}, default = 0.1:\n",
            "        Minimum epsilon. Used to balance exploration in later stages.\n",
            "    \n",
            "    epsilon_decay_ratio {float}, default = 0.9:\n",
            "        Decay schedule of epsilon for future iterations\n",
            "        \n",
            "    n_episodes {int}, default = 10000:\n",
            "        Number of episodes for the agent\n",
            "    \n",
            "    \n",
            "    Returns\n",
            "    ----------------------------\n",
            "    Q {numpy array}, shape(nS, nA):\n",
            "        Final action-value function Q(s,a)\n",
            "    \n",
            "    pi {lambda}, input state value, output action value:\n",
            "        Policy mapping states to actions.\n",
            "    \n",
            "    V {numpy array}, shape(nS):\n",
            "        State values array\n",
            "    \n",
            "    Q_track {numpy array}, shape(n_episodes, nS, nA):\n",
            "        Log of Q(s,a) for each episode\n",
            "    \n",
            "    pi_track {list}, len(n_episodes):\n",
            "        Log of complete policy for each episode\n",
            "\n"
          ]
        }
      ]
    },
    {
      "cell_type": "code",
      "source": [
        "import seaborn as sns\n",
        "import matplotlib.pyplot as plt\n",
        "from matplotlib.patches import Patch\n",
        "\n",
        "\n",
        "# pi: reshape to 20,20?\n",
        "pi_reshaped = np.reshape([pi(i) for i in range(500)], (25, 20))\n",
        "print(pi_reshaped)\n",
        "cmap = sns.color_palette(\"bright\", as_cmap=True)\n",
        "\n",
        "legend_elements = [\n",
        "        Patch(facecolor=cmap[0], edgecolor=\"black\", label=\"move south\"),\n",
        "        Patch(facecolor=cmap[2], edgecolor=\"black\", label=\"move north\"),\n",
        "        Patch(facecolor=cmap[4], edgecolor=\"black\", label=\"move east\"),\n",
        "        Patch(facecolor=cmap[6], edgecolor=\"black\", label=\"move west\"),\n",
        "        Patch(facecolor=cmap[8], edgecolor=\"black\", label=\"pickup passenger\"),\n",
        "        Patch(facecolor=cmap[9], edgecolor=\"black\", label=\"drop off passenger\")\n",
        "    ]\n",
        "\n",
        "plt.legend(handles=legend_elements, bbox_to_anchor=(1.3, 1))\n",
        "\n",
        "sns.heatmap(pi_reshaped, cmap=cmap, cbar=False)\n",
        "plt.ylabel(\"taxi_position\")\n",
        "plt.xlabel(\"Passenger/Destination State\")\n",
        "#plt.savefig(\"QL_Taxi_Policy.png\")"
      ],
      "metadata": {
        "colab": {
          "base_uri": "https://localhost:8080/",
          "height": 900
        },
        "id": "nRaVUYo3rTZP",
        "outputId": "a4fc4d17-0d52-4daf-a540-659e28f1ca7d"
      },
      "execution_count": null,
      "outputs": [
        {
          "output_type": "stream",
          "name": "stdout",
          "text": [
            "[[0 4 4 4 2 0 0 2 0 0 0 0 0 0 0 0 5 0 0 0]\n",
            " [0 3 3 3 0 0 0 0 3 0 0 0 0 0 0 0 3 0 0 0]\n",
            " [0 0 0 0 2 0 2 2 0 0 0 0 2 2 0 0 0 2 0 0]\n",
            " [0 0 0 0 2 0 2 2 0 0 0 3 0 0 0 0 0 2 0 0]\n",
            " [0 0 0 0 4 0 4 4 0 0 0 3 0 0 0 0 0 5 3 0]\n",
            " [0 1 1 1 0 0 2 2 0 0 0 0 2 2 0 0 1 0 0 0]\n",
            " [0 1 1 1 0 0 0 0 0 0 0 3 0 0 0 0 1 0 0 0]\n",
            " [0 0 0 0 2 0 2 2 0 0 0 0 2 2 0 0 0 1 0 0]\n",
            " [0 0 3 0 2 0 1 2 0 3 0 3 0 0 0 0 0 1 0 0]\n",
            " [0 0 3 3 1 0 1 1 0 3 0 0 0 0 3 0 0 1 3 0]\n",
            " [0 1 1 1 2 0 2 2 0 0 0 0 2 2 2 0 1 2 0 2]\n",
            " [0 1 1 3 2 0 2 2 3 3 0 3 2 2 2 0 1 2 3 2]\n",
            " [0 3 3 3 1 0 2 1 3 3 0 3 2 2 2 0 3 1 3 2]\n",
            " [0 3 3 3 2 0 1 1 3 3 0 3 0 0 0 0 3 1 3 0]\n",
            " [0 3 3 3 1 0 1 1 3 3 0 3 3 0 3 0 3 1 3 0]\n",
            " [0 1 1 1 1 0 1 1 0 0 0 0 1 1 1 0 1 1 0 1]\n",
            " [0 1 1 1 1 0 1 2 1 1 0 1 2 2 1 0 1 1 1 1]\n",
            " [0 1 3 1 1 0 1 1 1 1 0 1 1 1 1 0 1 1 1 1]\n",
            " [0 1 1 1 1 0 1 2 1 1 0 1 0 0 0 0 1 1 1 0]\n",
            " [0 1 1 3 1 0 1 1 3 3 0 1 0 0 0 0 1 1 3 0]\n",
            " [0 1 1 1 1 0 1 1 4 4 0 4 1 1 1 0 1 1 5 1]\n",
            " [0 1 1 1 1 0 1 1 1 1 0 1 1 1 2 0 1 1 1 1]\n",
            " [0 3 1 1 1 0 1 1 1 1 0 1 1 1 1 0 3 1 1 1]\n",
            " [0 1 1 1 1 0 2 1 1 1 0 1 4 4 4 0 1 1 1 5]\n",
            " [0 1 1 1 1 0 1 1 3 1 0 1 3 3 3 0 1 1 1 3]]\n"
          ]
        },
        {
          "output_type": "execute_result",
          "data": {
            "text/plain": [
              "Text(0.5, 23.52222222222222, 'Passenger/Destination State')"
            ]
          },
          "metadata": {},
          "execution_count": 188
        },
        {
          "output_type": "display_data",
          "data": {
            "text/plain": [
              "<Figure size 640x480 with 1 Axes>"
            ],
            "image/png": "[encoded data removed]"
          },
          "metadata": {}
        }
      ]
    },
    {
      "cell_type": "code",
      "source": [
        "len(Q_track)\n",
        "diffs = []\n",
        "\n",
        "for i, q in enumerate(Q_track[1:]):\n",
        "  diff = np.max(np.abs(q - Q_track[i]))\n",
        "  diffs.append(diff)\n",
        "\n",
        "\n",
        "\n",
        "plt.plot(diffs, label=\"q differences\")\n",
        "#plt.plot([1810, 1810], [17.5, 0], 'k-', lw=2, color=\"red\", label=\"convergence\")\n",
        "plt.legend()"
      ],
      "metadata": {
        "colab": {
          "base_uri": "https://localhost:8080/",
          "height": 447
        },
        "id": "EPRD41TfvqsJ",
        "outputId": "96821e20-fde0-4adc-eaee-41e33955e2d2"
      },
      "execution_count": null,
      "outputs": [
        {
          "output_type": "execute_result",
          "data": {
            "text/plain": [
              "<matplotlib.legend.Legend at 0x7ec3fb079db0>"
            ]
          },
          "metadata": {},
          "execution_count": 189
        },
        {
          "output_type": "display_data",
          "data": {
            "text/plain": [
              "<Figure size 640x480 with 1 Axes>"
            ],
            "image/png": "[encoded data removed]"
          },
          "metadata": {}
        }
      ]
    },
    {
      "cell_type": "code",
      "source": [
        "#possibilities: similarity scores, test_scores, convergence time for different epsilon values. .8, .9, .99)\n",
        "\n",
        "def get_differences(Q_track):\n",
        "  diffs = []\n",
        "\n",
        "  for i, q in enumerate(Q_track[1:]):\n",
        "    diff = np.max(np.abs(q - Q_track[i]))\n",
        "    diffs.append(diff)\n",
        "\n",
        "  return diffs\n",
        "\n",
        "def get_similarities(p1, p2):\n",
        "  return np.mean(p1 == p2)\n",
        "\n",
        "\n",
        "def get_convergence(diffs):\n",
        "  avgs = []\n",
        "  for i in range(0, len(diffs), 10):\n",
        "   avgs.append(np.mean(diffs[i:i+10]))\n",
        "\n",
        "  for i, q in enumerate(avgs):\n",
        "    if q < 1e-5:\n",
        "      return i * 10\n",
        "\n",
        "  return 0\n"
      ],
      "metadata": {
        "id": "TdC39apeLf1M"
      },
      "execution_count": 194,
      "outputs": []
    },
    {
      "cell_type": "code",
      "source": [
        "import time\n",
        "_, _, pi_star = Planner(env.P).policy_iteration(gamma=.99)\n",
        "pi_star = np.array(list(pi_star.values()))\n",
        "eps_results = []\n",
        "\n",
        "epsilons = [.8, .9, .99]\n",
        "seeds = list(range(5))\n",
        "\n",
        "for eps in epsilons:\n",
        "  convs = []\n",
        "  sims = []\n",
        "  runtimes = []\n",
        "  for seed in seeds:\n",
        "    np.random.seed(seed)\n",
        "    start = time.time()\n",
        "    Q, V, pi, Q_track, pi_track = RL(env.env).q_learning(epsilon_decay_ratio=eps)\n",
        "    pi = np.array([pi(s) for s in range(500)])\n",
        "    end = time.time()\n",
        "    runtime = end - start\n",
        "    diffs = get_differences(Q_track)\n",
        "    sim = get_similarities(pi, pi_star)\n",
        "    conv = get_convergence(diffs)\n",
        "    convs.append(conv)\n",
        "    sims.append(sim)\n",
        "    runtimes.append(runtime)\n",
        "\n",
        "  eps_results.append({\"eps\": eps, \"sim\": np.mean(sims), \"conv\": np.mean(convs), \"runtime\": np.mean(runtime)})\n"
      ],
      "metadata": {
        "colab": {
          "base_uri": "https://localhost:8080/"
        },
        "id": "R0yszMKxGXMa",
        "outputId": "5e6b96fe-9f8b-4867-99b4-a9f530bb225b"
      },
      "execution_count": 219,
      "outputs": [
        {
          "output_type": "stream",
          "name": "stdout",
          "text": [
            "0\n",
            "1\n",
            "2\n",
            "3\n",
            "4\n",
            "5\n",
            "6\n",
            "7\n",
            "8\n",
            "9\n",
            "10\n",
            "11\n",
            "12\n",
            "13\n",
            "14\n",
            "15\n",
            "16\n"
          ]
        },
        {
          "output_type": "stream",
          "name": "stderr",
          "text": []
        },
        {
          "output_type": "stream",
          "name": "stdout",
          "text": [
            "runtime = 15.54 seconds\n"
          ]
        },
        {
          "output_type": "stream",
          "name": "stderr",
          "text": []
        },
        {
          "output_type": "stream",
          "name": "stdout",
          "text": [
            "runtime = 15.01 seconds\n"
          ]
        },
        {
          "output_type": "stream",
          "name": "stderr",
          "text": []
        },
        {
          "output_type": "stream",
          "name": "stdout",
          "text": [
            "runtime = 15.45 seconds\n"
          ]
        },
        {
          "output_type": "stream",
          "name": "stderr",
          "text": []
        },
        {
          "output_type": "stream",
          "name": "stdout",
          "text": [
            "runtime = 16.02 seconds\n"
          ]
        },
        {
          "output_type": "stream",
          "name": "stderr",
          "text": []
        },
        {
          "output_type": "stream",
          "name": "stdout",
          "text": [
            "runtime = 16.30 seconds\n"
          ]
        },
        {
          "output_type": "stream",
          "name": "stderr",
          "text": []
        },
        {
          "output_type": "stream",
          "name": "stdout",
          "text": [
            "runtime = 16.54 seconds\n"
          ]
        },
        {
          "output_type": "stream",
          "name": "stderr",
          "text": []
        },
        {
          "output_type": "stream",
          "name": "stdout",
          "text": [
            "runtime = 17.84 seconds\n"
          ]
        },
        {
          "output_type": "stream",
          "name": "stderr",
          "text": []
        },
        {
          "output_type": "stream",
          "name": "stdout",
          "text": [
            "runtime = 17.58 seconds\n"
          ]
        },
        {
          "output_type": "stream",
          "name": "stderr",
          "text": []
        },
        {
          "output_type": "stream",
          "name": "stdout",
          "text": [
            "runtime = 17.87 seconds\n"
          ]
        },
        {
          "output_type": "stream",
          "name": "stderr",
          "text": []
        },
        {
          "output_type": "stream",
          "name": "stdout",
          "text": [
            "runtime = 16.45 seconds\n"
          ]
        },
        {
          "output_type": "stream",
          "name": "stderr",
          "text": []
        },
        {
          "output_type": "stream",
          "name": "stdout",
          "text": [
            "runtime = 16.56 seconds\n"
          ]
        },
        {
          "output_type": "stream",
          "name": "stderr",
          "text": []
        },
        {
          "output_type": "stream",
          "name": "stdout",
          "text": [
            "runtime = 20.09 seconds\n"
          ]
        },
        {
          "output_type": "stream",
          "name": "stderr",
          "text": []
        },
        {
          "output_type": "stream",
          "name": "stdout",
          "text": [
            "runtime = 18.69 seconds\n"
          ]
        },
        {
          "output_type": "stream",
          "name": "stderr",
          "text": []
        },
        {
          "output_type": "stream",
          "name": "stdout",
          "text": [
            "runtime = 17.58 seconds\n"
          ]
        },
        {
          "output_type": "stream",
          "name": "stderr",
          "text": []
        },
        {
          "output_type": "stream",
          "name": "stdout",
          "text": [
            "runtime = 17.69 seconds\n"
          ]
        }
      ]
    },
    {
      "cell_type": "code",
      "source": [
        "print(eps_results)"
      ],
      "metadata": {
        "colab": {
          "base_uri": "https://localhost:8080/"
        },
        "id": "LwKEbMfcZpI7",
        "outputId": "550afc94-5de0-4e14-922e-d043ce1b26d2"
      },
      "execution_count": 220,
      "outputs": [
        {
          "output_type": "stream",
          "name": "stdout",
          "text": [
            "[{'eps': 0.8, 'sim': 0.7428, 'conv': 1696.0, 'runtime': 16.37973690032959}, {'eps': 0.9, 'sim': 0.7420000000000001, 'conv': 1592.0, 'runtime': 16.493028163909912}, {'eps': 0.99, 'sim': 0.7527999999999999, 'conv': 1564.0, 'runtime': 17.736024379730225}]\n"
          ]
        }
      ]
    },
    {
      "cell_type": "code",
      "source": [
        "# pick .001 for q convergence\n",
        "\n",
        "test_scores = TestEnv.test_env(env=env.env, render=False, user_input=False, pi=pi)\n",
        "print(test_scores)"
      ],
      "metadata": {
        "colab": {
          "base_uri": "https://localhost:8080/"
        },
        "id": "ALrGrq4vrsLu",
        "outputId": "361c5299-2e4f-4d88-dc13-347e7dce874a"
      },
      "execution_count": null,
      "outputs": [
        {
          "output_type": "stream",
          "name": "stdout",
          "text": [
            "[ 5. 10.  7.  6. 10.  8.  8. 10. 10.  4.]\n"
          ]
        }
      ]
    },
    {
      "cell_type": "code",
      "source": [
        "np.mean([1, 2, 3])\n",
        "# so: Q-Learning does well on the taxi"
      ],
      "metadata": {
        "colab": {
          "base_uri": "https://localhost:8080/"
        },
        "id": "z7usVm_fyCEe",
        "outputId": "7810c31f-94e9-4c4e-c968-7789ae19bd6e"
      },
      "execution_count": 215,
      "outputs": [
        {
          "output_type": "execute_result",
          "data": {
            "text/plain": [
              "2.0"
            ]
          },
          "metadata": {},
          "execution_count": 215
        }
      ]
    },
    {
      "cell_type": "markdown",
      "source": [
        "[link text](https://)"
      ],
      "metadata": {
        "id": "eVQHBqVUZ3lI"
      }
    }
  ]
}